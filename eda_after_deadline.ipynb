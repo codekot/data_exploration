{
 "cells": [
  {
   "cell_type": "code",
   "execution_count": 1,
   "id": "b489cb9e",
   "metadata": {},
   "outputs": [],
   "source": [
    "import pandas as pd\n",
    "import seaborn as sns\n",
    "import matplotlib.pylab as plt"
   ]
  },
  {
   "cell_type": "markdown",
   "id": "1c15b022",
   "metadata": {},
   "source": [
    "# Context"
   ]
  },
  {
   "cell_type": "code",
   "execution_count": 2,
   "id": "e6bc365a",
   "metadata": {},
   "outputs": [
    {
     "data": {
      "text/plain": [
       "(100000, 12)"
      ]
     },
     "execution_count": 2,
     "metadata": {},
     "output_type": "execute_result"
    }
   ],
   "source": [
    "df = pd.read_csv('train.csv')\n",
    "df.shape"
   ]
  },
  {
   "cell_type": "markdown",
   "id": "4ba370e5",
   "metadata": {},
   "source": [
    "Размер датасета 100000 рядов и 12 колонок, что превышает вместимость лайнера начала 20 века, из чего мы может сделать вывод, что это синтетический датасет."
   ]
  },
  {
   "cell_type": "code",
   "execution_count": 3,
   "id": "15d54859",
   "metadata": {
    "scrolled": true
   },
   "outputs": [
    {
     "data": {
      "text/html": [
       "<div>\n",
       "<style scoped>\n",
       "    .dataframe tbody tr th:only-of-type {\n",
       "        vertical-align: middle;\n",
       "    }\n",
       "\n",
       "    .dataframe tbody tr th {\n",
       "        vertical-align: top;\n",
       "    }\n",
       "\n",
       "    .dataframe thead th {\n",
       "        text-align: right;\n",
       "    }\n",
       "</style>\n",
       "<table border=\"1\" class=\"dataframe\">\n",
       "  <thead>\n",
       "    <tr style=\"text-align: right;\">\n",
       "      <th></th>\n",
       "      <th>PassengerId</th>\n",
       "      <th>Survived</th>\n",
       "      <th>Pclass</th>\n",
       "      <th>Name</th>\n",
       "      <th>Sex</th>\n",
       "      <th>Age</th>\n",
       "      <th>SibSp</th>\n",
       "      <th>Parch</th>\n",
       "      <th>Ticket</th>\n",
       "      <th>Fare</th>\n",
       "      <th>Cabin</th>\n",
       "      <th>Embarked</th>\n",
       "    </tr>\n",
       "  </thead>\n",
       "  <tbody>\n",
       "    <tr>\n",
       "      <th>0</th>\n",
       "      <td>0</td>\n",
       "      <td>1</td>\n",
       "      <td>1</td>\n",
       "      <td>Oconnor, Frankie</td>\n",
       "      <td>male</td>\n",
       "      <td>NaN</td>\n",
       "      <td>2</td>\n",
       "      <td>0</td>\n",
       "      <td>209245</td>\n",
       "      <td>27.14</td>\n",
       "      <td>C12239</td>\n",
       "      <td>S</td>\n",
       "    </tr>\n",
       "    <tr>\n",
       "      <th>1</th>\n",
       "      <td>1</td>\n",
       "      <td>0</td>\n",
       "      <td>3</td>\n",
       "      <td>Bryan, Drew</td>\n",
       "      <td>male</td>\n",
       "      <td>NaN</td>\n",
       "      <td>0</td>\n",
       "      <td>0</td>\n",
       "      <td>27323</td>\n",
       "      <td>13.35</td>\n",
       "      <td>NaN</td>\n",
       "      <td>S</td>\n",
       "    </tr>\n",
       "    <tr>\n",
       "      <th>2</th>\n",
       "      <td>2</td>\n",
       "      <td>0</td>\n",
       "      <td>3</td>\n",
       "      <td>Owens, Kenneth</td>\n",
       "      <td>male</td>\n",
       "      <td>0.33</td>\n",
       "      <td>1</td>\n",
       "      <td>2</td>\n",
       "      <td>CA 457703</td>\n",
       "      <td>71.29</td>\n",
       "      <td>NaN</td>\n",
       "      <td>S</td>\n",
       "    </tr>\n",
       "    <tr>\n",
       "      <th>3</th>\n",
       "      <td>3</td>\n",
       "      <td>0</td>\n",
       "      <td>3</td>\n",
       "      <td>Kramer, James</td>\n",
       "      <td>male</td>\n",
       "      <td>19.00</td>\n",
       "      <td>0</td>\n",
       "      <td>0</td>\n",
       "      <td>A. 10866</td>\n",
       "      <td>13.04</td>\n",
       "      <td>NaN</td>\n",
       "      <td>S</td>\n",
       "    </tr>\n",
       "    <tr>\n",
       "      <th>4</th>\n",
       "      <td>4</td>\n",
       "      <td>1</td>\n",
       "      <td>3</td>\n",
       "      <td>Bond, Michael</td>\n",
       "      <td>male</td>\n",
       "      <td>25.00</td>\n",
       "      <td>0</td>\n",
       "      <td>0</td>\n",
       "      <td>427635</td>\n",
       "      <td>7.76</td>\n",
       "      <td>NaN</td>\n",
       "      <td>S</td>\n",
       "    </tr>\n",
       "    <tr>\n",
       "      <th>...</th>\n",
       "      <td>...</td>\n",
       "      <td>...</td>\n",
       "      <td>...</td>\n",
       "      <td>...</td>\n",
       "      <td>...</td>\n",
       "      <td>...</td>\n",
       "      <td>...</td>\n",
       "      <td>...</td>\n",
       "      <td>...</td>\n",
       "      <td>...</td>\n",
       "      <td>...</td>\n",
       "      <td>...</td>\n",
       "    </tr>\n",
       "    <tr>\n",
       "      <th>99995</th>\n",
       "      <td>99995</td>\n",
       "      <td>1</td>\n",
       "      <td>2</td>\n",
       "      <td>Bell, Adele</td>\n",
       "      <td>female</td>\n",
       "      <td>62.00</td>\n",
       "      <td>0</td>\n",
       "      <td>0</td>\n",
       "      <td>PC 15008</td>\n",
       "      <td>14.86</td>\n",
       "      <td>D17243</td>\n",
       "      <td>C</td>\n",
       "    </tr>\n",
       "    <tr>\n",
       "      <th>99996</th>\n",
       "      <td>99996</td>\n",
       "      <td>0</td>\n",
       "      <td>2</td>\n",
       "      <td>Brown, Herman</td>\n",
       "      <td>male</td>\n",
       "      <td>66.00</td>\n",
       "      <td>0</td>\n",
       "      <td>0</td>\n",
       "      <td>13273</td>\n",
       "      <td>11.15</td>\n",
       "      <td>NaN</td>\n",
       "      <td>S</td>\n",
       "    </tr>\n",
       "    <tr>\n",
       "      <th>99997</th>\n",
       "      <td>99997</td>\n",
       "      <td>0</td>\n",
       "      <td>3</td>\n",
       "      <td>Childress, Charles</td>\n",
       "      <td>male</td>\n",
       "      <td>37.00</td>\n",
       "      <td>0</td>\n",
       "      <td>0</td>\n",
       "      <td>NaN</td>\n",
       "      <td>9.95</td>\n",
       "      <td>NaN</td>\n",
       "      <td>S</td>\n",
       "    </tr>\n",
       "    <tr>\n",
       "      <th>99998</th>\n",
       "      <td>99998</td>\n",
       "      <td>0</td>\n",
       "      <td>3</td>\n",
       "      <td>Caughlin, Thomas</td>\n",
       "      <td>male</td>\n",
       "      <td>51.00</td>\n",
       "      <td>0</td>\n",
       "      <td>1</td>\n",
       "      <td>458654</td>\n",
       "      <td>30.92</td>\n",
       "      <td>NaN</td>\n",
       "      <td>S</td>\n",
       "    </tr>\n",
       "    <tr>\n",
       "      <th>99999</th>\n",
       "      <td>99999</td>\n",
       "      <td>0</td>\n",
       "      <td>3</td>\n",
       "      <td>Enciso, Tyler</td>\n",
       "      <td>male</td>\n",
       "      <td>55.00</td>\n",
       "      <td>0</td>\n",
       "      <td>0</td>\n",
       "      <td>458074</td>\n",
       "      <td>13.96</td>\n",
       "      <td>NaN</td>\n",
       "      <td>S</td>\n",
       "    </tr>\n",
       "  </tbody>\n",
       "</table>\n",
       "<p>100000 rows × 12 columns</p>\n",
       "</div>"
      ],
      "text/plain": [
       "       PassengerId  Survived  Pclass                Name     Sex    Age  \\\n",
       "0                0         1       1    Oconnor, Frankie    male    NaN   \n",
       "1                1         0       3         Bryan, Drew    male    NaN   \n",
       "2                2         0       3      Owens, Kenneth    male   0.33   \n",
       "3                3         0       3       Kramer, James    male  19.00   \n",
       "4                4         1       3       Bond, Michael    male  25.00   \n",
       "...            ...       ...     ...                 ...     ...    ...   \n",
       "99995        99995         1       2         Bell, Adele  female  62.00   \n",
       "99996        99996         0       2       Brown, Herman    male  66.00   \n",
       "99997        99997         0       3  Childress, Charles    male  37.00   \n",
       "99998        99998         0       3    Caughlin, Thomas    male  51.00   \n",
       "99999        99999         0       3       Enciso, Tyler    male  55.00   \n",
       "\n",
       "       SibSp  Parch     Ticket   Fare   Cabin Embarked  \n",
       "0          2      0     209245  27.14  C12239        S  \n",
       "1          0      0      27323  13.35     NaN        S  \n",
       "2          1      2  CA 457703  71.29     NaN        S  \n",
       "3          0      0   A. 10866  13.04     NaN        S  \n",
       "4          0      0     427635   7.76     NaN        S  \n",
       "...      ...    ...        ...    ...     ...      ...  \n",
       "99995      0      0   PC 15008  14.86  D17243        C  \n",
       "99996      0      0      13273  11.15     NaN        S  \n",
       "99997      0      0        NaN   9.95     NaN        S  \n",
       "99998      0      1     458654  30.92     NaN        S  \n",
       "99999      0      0     458074  13.96     NaN        S  \n",
       "\n",
       "[100000 rows x 12 columns]"
      ]
     },
     "execution_count": 3,
     "metadata": {},
     "output_type": "execute_result"
    }
   ],
   "source": [
    "df"
   ]
  },
  {
   "cell_type": "markdown",
   "id": "f31d34f1",
   "metadata": {},
   "source": [
    "# Data quality assessment"
   ]
  },
  {
   "cell_type": "code",
   "execution_count": 4,
   "id": "d1c1c1c1",
   "metadata": {
    "scrolled": true
   },
   "outputs": [
    {
     "name": "stdout",
     "output_type": "stream",
     "text": [
      "<class 'pandas.core.frame.DataFrame'>\n",
      "RangeIndex: 100000 entries, 0 to 99999\n",
      "Data columns (total 12 columns):\n",
      " #   Column       Non-Null Count   Dtype  \n",
      "---  ------       --------------   -----  \n",
      " 0   PassengerId  100000 non-null  int64  \n",
      " 1   Survived     100000 non-null  int64  \n",
      " 2   Pclass       100000 non-null  int64  \n",
      " 3   Name         100000 non-null  object \n",
      " 4   Sex          100000 non-null  object \n",
      " 5   Age          96708 non-null   float64\n",
      " 6   SibSp        100000 non-null  int64  \n",
      " 7   Parch        100000 non-null  int64  \n",
      " 8   Ticket       95377 non-null   object \n",
      " 9   Fare         99866 non-null   float64\n",
      " 10  Cabin        32134 non-null   object \n",
      " 11  Embarked     99750 non-null   object \n",
      "dtypes: float64(2), int64(5), object(5)\n",
      "memory usage: 9.2+ MB\n"
     ]
    }
   ],
   "source": [
    "df.info()"
   ]
  },
  {
   "cell_type": "raw",
   "id": "8041707e",
   "metadata": {},
   "source": [
    "Для колонок PassangerId, Survived, PClass, Name, Sex, SibSp, Parch все значения не нулевые. Также присутствуют пропущенные значения."
   ]
  },
  {
   "cell_type": "code",
   "execution_count": 5,
   "id": "8ed8fda8",
   "metadata": {},
   "outputs": [
    {
     "data": {
      "text/plain": [
       "PassengerId        0\n",
       "Survived           0\n",
       "Pclass             0\n",
       "Name               0\n",
       "Sex                0\n",
       "Age             3292\n",
       "SibSp              0\n",
       "Parch              0\n",
       "Ticket          4623\n",
       "Fare             134\n",
       "Cabin          67866\n",
       "Embarked         250\n",
       "dtype: int64"
      ]
     },
     "execution_count": 5,
     "metadata": {},
     "output_type": "execute_result"
    }
   ],
   "source": [
    "# Сколько пустых ячеек в каждой колонке\n",
    "df.isna().sum()"
   ]
  },
  {
   "cell_type": "markdown",
   "id": "0b491deb",
   "metadata": {},
   "source": [
    "В колонке Cabin пропущено 67,9% значений"
   ]
  },
  {
   "cell_type": "code",
   "execution_count": 6,
   "id": "671fe470",
   "metadata": {},
   "outputs": [
    {
     "data": {
      "text/plain": [
       "69119"
      ]
     },
     "execution_count": 6,
     "metadata": {},
     "output_type": "execute_result"
    }
   ],
   "source": [
    "# Подсчитаем сколько рядов с хотя бы одним пропущеным значением\n",
    "# В колонке Cabin более 60 процентов пропущенных значений\n",
    "count_missed = df.shape[0] - df.dropna().shape[0]\n",
    "count_missed"
   ]
  },
  {
   "cell_type": "markdown",
   "id": "60bcc203",
   "metadata": {},
   "source": [
    "69119 число рядов с хотя бы одним пропущенным значением. В основном это из за столбца Cabin"
   ]
  },
  {
   "cell_type": "code",
   "execution_count": 7,
   "id": "e3ae37f8",
   "metadata": {},
   "outputs": [
    {
     "data": {
      "text/plain": [
       "<AxesSubplot:>"
      ]
     },
     "execution_count": 7,
     "metadata": {},
     "output_type": "execute_result"
    },
    {
     "data": {
      "image/png": "[encoded data removed]",
      "text/plain": [
       "<Figure size 432x288 with 1 Axes>"
      ]
     },
     "metadata": {
      "needs_background": "light"
     },
     "output_type": "display_data"
    }
   ],
   "source": [
    "sns.heatmap(df.isnull(), cbar=False)"
   ]
  },
  {
   "cell_type": "markdown",
   "id": "6254fa1b",
   "metadata": {},
   "source": [
    "Тепловая карта визуально подтвеждает, что основной источник пропущенных значений это Cabin"
   ]
  },
  {
   "cell_type": "code",
   "execution_count": 8,
   "id": "f9d5b57a",
   "metadata": {},
   "outputs": [],
   "source": [
    "# Преобразуем столбец Survived в тип Boolean, поскольку его смысл больше соответсвует категориальному значению\n",
    "df.Survived = df.Survived.astype(bool)"
   ]
  },
  {
   "cell_type": "markdown",
   "id": "271ae678",
   "metadata": {},
   "source": [
    "# Data exploration"
   ]
  },
  {
   "cell_type": "code",
   "execution_count": 9,
   "id": "5350a846",
   "metadata": {
    "scrolled": false
   },
   "outputs": [
    {
     "data": {
      "text/html": [
       "<div>\n",
       "<style scoped>\n",
       "    .dataframe tbody tr th:only-of-type {\n",
       "        vertical-align: middle;\n",
       "    }\n",
       "\n",
       "    .dataframe tbody tr th {\n",
       "        vertical-align: top;\n",
       "    }\n",
       "\n",
       "    .dataframe thead th {\n",
       "        text-align: right;\n",
       "    }\n",
       "</style>\n",
       "<table border=\"1\" class=\"dataframe\">\n",
       "  <thead>\n",
       "    <tr style=\"text-align: right;\">\n",
       "      <th></th>\n",
       "      <th>PassengerId</th>\n",
       "      <th>Pclass</th>\n",
       "      <th>Age</th>\n",
       "      <th>SibSp</th>\n",
       "      <th>Parch</th>\n",
       "      <th>Fare</th>\n",
       "    </tr>\n",
       "  </thead>\n",
       "  <tbody>\n",
       "    <tr>\n",
       "      <th>count</th>\n",
       "      <td>100000.000000</td>\n",
       "      <td>100000.000000</td>\n",
       "      <td>96708.000000</td>\n",
       "      <td>100000.000000</td>\n",
       "      <td>100000.000000</td>\n",
       "      <td>99866.00000</td>\n",
       "    </tr>\n",
       "    <tr>\n",
       "      <th>mean</th>\n",
       "      <td>49999.500000</td>\n",
       "      <td>2.106910</td>\n",
       "      <td>38.355472</td>\n",
       "      <td>0.397690</td>\n",
       "      <td>0.454560</td>\n",
       "      <td>43.92933</td>\n",
       "    </tr>\n",
       "    <tr>\n",
       "      <th>std</th>\n",
       "      <td>28867.657797</td>\n",
       "      <td>0.837727</td>\n",
       "      <td>18.313556</td>\n",
       "      <td>0.862566</td>\n",
       "      <td>0.950076</td>\n",
       "      <td>69.58882</td>\n",
       "    </tr>\n",
       "    <tr>\n",
       "      <th>min</th>\n",
       "      <td>0.000000</td>\n",
       "      <td>1.000000</td>\n",
       "      <td>0.080000</td>\n",
       "      <td>0.000000</td>\n",
       "      <td>0.000000</td>\n",
       "      <td>0.68000</td>\n",
       "    </tr>\n",
       "    <tr>\n",
       "      <th>25%</th>\n",
       "      <td>24999.750000</td>\n",
       "      <td>1.000000</td>\n",
       "      <td>25.000000</td>\n",
       "      <td>0.000000</td>\n",
       "      <td>0.000000</td>\n",
       "      <td>10.04000</td>\n",
       "    </tr>\n",
       "    <tr>\n",
       "      <th>50%</th>\n",
       "      <td>49999.500000</td>\n",
       "      <td>2.000000</td>\n",
       "      <td>39.000000</td>\n",
       "      <td>0.000000</td>\n",
       "      <td>0.000000</td>\n",
       "      <td>24.46000</td>\n",
       "    </tr>\n",
       "    <tr>\n",
       "      <th>75%</th>\n",
       "      <td>74999.250000</td>\n",
       "      <td>3.000000</td>\n",
       "      <td>53.000000</td>\n",
       "      <td>1.000000</td>\n",
       "      <td>1.000000</td>\n",
       "      <td>33.50000</td>\n",
       "    </tr>\n",
       "    <tr>\n",
       "      <th>max</th>\n",
       "      <td>99999.000000</td>\n",
       "      <td>3.000000</td>\n",
       "      <td>87.000000</td>\n",
       "      <td>8.000000</td>\n",
       "      <td>9.000000</td>\n",
       "      <td>744.66000</td>\n",
       "    </tr>\n",
       "  </tbody>\n",
       "</table>\n",
       "</div>"
      ],
      "text/plain": [
       "         PassengerId         Pclass           Age          SibSp  \\\n",
       "count  100000.000000  100000.000000  96708.000000  100000.000000   \n",
       "mean    49999.500000       2.106910     38.355472       0.397690   \n",
       "std     28867.657797       0.837727     18.313556       0.862566   \n",
       "min         0.000000       1.000000      0.080000       0.000000   \n",
       "25%     24999.750000       1.000000     25.000000       0.000000   \n",
       "50%     49999.500000       2.000000     39.000000       0.000000   \n",
       "75%     74999.250000       3.000000     53.000000       1.000000   \n",
       "max     99999.000000       3.000000     87.000000       8.000000   \n",
       "\n",
       "               Parch         Fare  \n",
       "count  100000.000000  99866.00000  \n",
       "mean        0.454560     43.92933  \n",
       "std         0.950076     69.58882  \n",
       "min         0.000000      0.68000  \n",
       "25%         0.000000     10.04000  \n",
       "50%         0.000000     24.46000  \n",
       "75%         1.000000     33.50000  \n",
       "max         9.000000    744.66000  "
      ]
     },
     "execution_count": 9,
     "metadata": {},
     "output_type": "execute_result"
    }
   ],
   "source": [
    "df.describe()"
   ]
  },
  {
   "cell_type": "markdown",
   "id": "45e728aa",
   "metadata": {},
   "source": [
    "Средний класс - 2, соответсвует медиане 2. Средний возраст 38,4, так же соответсвует медиане 39 Медиана со значением 0 и средним значением 0,4 и 0,45 соответственно для колонок \"Братья, сестры, супруги\" и \"Родители и дети\" говорит о скошенности вправо. Также на скошенность вправо указывают значения колонки Fare"
   ]
  },
  {
   "cell_type": "code",
   "execution_count": 10,
   "id": "66d74ddb",
   "metadata": {},
   "outputs": [
    {
     "data": {
      "text/html": [
       "<div>\n",
       "<style scoped>\n",
       "    .dataframe tbody tr th:only-of-type {\n",
       "        vertical-align: middle;\n",
       "    }\n",
       "\n",
       "    .dataframe tbody tr th {\n",
       "        vertical-align: top;\n",
       "    }\n",
       "\n",
       "    .dataframe thead th {\n",
       "        text-align: right;\n",
       "    }\n",
       "</style>\n",
       "<table border=\"1\" class=\"dataframe\">\n",
       "  <thead>\n",
       "    <tr style=\"text-align: right;\">\n",
       "      <th></th>\n",
       "      <th>PassengerId</th>\n",
       "      <th>Survived</th>\n",
       "      <th>Pclass</th>\n",
       "      <th>Name</th>\n",
       "      <th>Sex</th>\n",
       "      <th>Age</th>\n",
       "      <th>SibSp</th>\n",
       "      <th>Parch</th>\n",
       "      <th>Ticket</th>\n",
       "      <th>Fare</th>\n",
       "      <th>Cabin</th>\n",
       "      <th>Embarked</th>\n",
       "    </tr>\n",
       "  </thead>\n",
       "  <tbody>\n",
       "    <tr>\n",
       "      <th>count</th>\n",
       "      <td>100000</td>\n",
       "      <td>100000</td>\n",
       "      <td>100000</td>\n",
       "      <td>100000</td>\n",
       "      <td>100000</td>\n",
       "      <td>96708.0</td>\n",
       "      <td>100000</td>\n",
       "      <td>100000</td>\n",
       "      <td>95377</td>\n",
       "      <td>99866.00</td>\n",
       "      <td>32134</td>\n",
       "      <td>99750</td>\n",
       "    </tr>\n",
       "    <tr>\n",
       "      <th>unique</th>\n",
       "      <td>100000</td>\n",
       "      <td>2</td>\n",
       "      <td>3</td>\n",
       "      <td>92144</td>\n",
       "      <td>2</td>\n",
       "      <td>173.0</td>\n",
       "      <td>7</td>\n",
       "      <td>8</td>\n",
       "      <td>75331</td>\n",
       "      <td>15935.00</td>\n",
       "      <td>26992</td>\n",
       "      <td>3</td>\n",
       "    </tr>\n",
       "    <tr>\n",
       "      <th>top</th>\n",
       "      <td>0</td>\n",
       "      <td>False</td>\n",
       "      <td>3</td>\n",
       "      <td>Johnson, John</td>\n",
       "      <td>male</td>\n",
       "      <td>25.0</td>\n",
       "      <td>0</td>\n",
       "      <td>0</td>\n",
       "      <td>A/5</td>\n",
       "      <td>9.85</td>\n",
       "      <td>C19828</td>\n",
       "      <td>S</td>\n",
       "    </tr>\n",
       "    <tr>\n",
       "      <th>freq</th>\n",
       "      <td>1</td>\n",
       "      <td>57226</td>\n",
       "      <td>41006</td>\n",
       "      <td>31</td>\n",
       "      <td>56114</td>\n",
       "      <td>2354.0</td>\n",
       "      <td>73308</td>\n",
       "      <td>73540</td>\n",
       "      <td>602</td>\n",
       "      <td>87.00</td>\n",
       "      <td>6</td>\n",
       "      <td>72139</td>\n",
       "    </tr>\n",
       "  </tbody>\n",
       "</table>\n",
       "</div>"
      ],
      "text/plain": [
       "        PassengerId Survived  Pclass           Name     Sex      Age   SibSp  \\\n",
       "count        100000   100000  100000         100000  100000  96708.0  100000   \n",
       "unique       100000        2       3          92144       2    173.0       7   \n",
       "top               0    False       3  Johnson, John    male     25.0       0   \n",
       "freq              1    57226   41006             31   56114   2354.0   73308   \n",
       "\n",
       "         Parch Ticket      Fare   Cabin Embarked  \n",
       "count   100000  95377  99866.00   32134    99750  \n",
       "unique       8  75331  15935.00   26992        3  \n",
       "top          0   A/5       9.85  C19828        S  \n",
       "freq     73540    602     87.00       6    72139  "
      ]
     },
     "execution_count": 10,
     "metadata": {},
     "output_type": "execute_result"
    }
   ],
   "source": [
    "# Посмотрим на описание категориальных данных\n",
    "df.astype('object').describe()"
   ]
  },
  {
   "cell_type": "markdown",
   "id": "34e22767",
   "metadata": {},
   "source": [
    "Здесь можно отметить наиболее часто встречающиеся характеристики. Исходя из данных по колонкам и значений самого часто встречаемого значения 'top' и его часто ты 'freq' большинство пассажиров невыжило. 41% пассажиров путешествовал третим классом. Большинство пассажиров было мужчинами. У большинства не было детей. Для большинства место посадки было Southampton. "
   ]
  },
  {
   "cell_type": "code",
   "execution_count": 16,
   "id": "0f2844a9",
   "metadata": {
    "scrolled": true
   },
   "outputs": [
    {
     "data": {
      "text/plain": [
       "<AxesSubplot:xlabel='Survived', ylabel='count'>"
      ]
     },
     "execution_count": 16,
     "metadata": {},
     "output_type": "execute_result"
    },
    {
     "data": {
      "image/png": "[encoded data removed]",
      "text/plain": [
       "<Figure size 432x288 with 1 Axes>"
      ]
     },
     "metadata": {
      "needs_background": "light"
     },
     "output_type": "display_data"
    }
   ],
   "source": [
    "# Колонка выжившие - большинство не выжило\n",
    "sns.countplot(x=\"Survived\", data=df)"
   ]
  },
  {
   "cell_type": "code",
   "execution_count": 17,
   "id": "0900bc7b",
   "metadata": {},
   "outputs": [
    {
     "data": {
      "text/plain": [
       "<AxesSubplot:xlabel='Pclass', ylabel='count'>"
      ]
     },
     "execution_count": 17,
     "metadata": {},
     "output_type": "execute_result"
    },
    {
     "data": {
      "image/png": "[encoded data removed]",
      "text/plain": [
       "<Figure size 432x288 with 1 Axes>"
      ]
     },
     "metadata": {
      "needs_background": "light"
     },
     "output_type": "display_data"
    }
   ],
   "source": [
    "# Колонка Класс\n",
    "sns.countplot(x=\"Pclass\", data=df)"
   ]
  },
  {
   "cell_type": "code",
   "execution_count": 18,
   "id": "749e00e7",
   "metadata": {
    "scrolled": true
   },
   "outputs": [
    {
     "data": {
      "text/plain": [
       "<AxesSubplot:xlabel='Sex', ylabel='count'>"
      ]
     },
     "execution_count": 18,
     "metadata": {},
     "output_type": "execute_result"
    },
    {
     "data": {
      "image/png": "[encoded data removed]",
      "text/plain": [
       "<Figure size 432x288 with 1 Axes>"
      ]
     },
     "metadata": {
      "needs_background": "light"
     },
     "output_type": "display_data"
    }
   ],
   "source": [
    "# Колонка Пол - большинство пассажиров было мужчины\n",
    "sns.countplot(x=\"Sex\", data=df)"
   ]
  },
  {
   "cell_type": "code",
   "execution_count": 19,
   "id": "cbe5627d",
   "metadata": {
    "scrolled": false
   },
   "outputs": [
    {
     "data": {
      "text/plain": [
       "<AxesSubplot:xlabel='Pclass', ylabel='count'>"
      ]
     },
     "execution_count": 19,
     "metadata": {},
     "output_type": "execute_result"
    },
    {
     "data": {
      "image/png": "[encoded data removed]",
      "text/plain": [
       "<Figure size 432x288 with 1 Axes>"
      ]
     },
     "metadata": {
      "needs_background": "light"
     },
     "output_type": "display_data"
    }
   ],
   "source": [
    "# Посчитатем соотношение по полу по классам\n",
    "sns.countplot(x=\"Pclass\", hue=\"Sex\", data=df)"
   ]
  },
  {
   "cell_type": "markdown",
   "id": "52f98ed0",
   "metadata": {},
   "source": [
    "Соотношение по полам примерно одинаковое для первого и второго класса. В третьем классе большинство пассажиров мужчины"
   ]
  },
  {
   "cell_type": "code",
   "execution_count": 20,
   "id": "9e232323",
   "metadata": {},
   "outputs": [
    {
     "data": {
      "text/plain": [
       "<AxesSubplot:xlabel='Pclass', ylabel='Survived'>"
      ]
     },
     "execution_count": 20,
     "metadata": {},
     "output_type": "execute_result"
    },
    {
     "data": {
      "image/png": "[encoded data removed]",
      "text/plain": [
       "<Figure size 432x288 with 1 Axes>"
      ]
     },
     "metadata": {
      "needs_background": "light"
     },
     "output_type": "display_data"
    }
   ],
   "source": [
    "# Соотношение выживших по признаку пола\n",
    "# Во всех классах большинство выживших это женщины\n",
    "sns.barplot(x=\"Pclass\", y='Survived',hue=\"Sex\", data=df)"
   ]
  },
  {
   "cell_type": "code",
   "execution_count": 21,
   "id": "3c1b5aac",
   "metadata": {},
   "outputs": [
    {
     "data": {
      "text/plain": [
       "<AxesSubplot:xlabel='Age', ylabel='count'>"
      ]
     },
     "execution_count": 21,
     "metadata": {},
     "output_type": "execute_result"
    },
    {
     "data": {
      "image/png": "[encoded data removed]",
      "text/plain": [
       "<Figure size 432x288 with 1 Axes>"
      ]
     },
     "metadata": {
      "needs_background": "light"
     },
     "output_type": "display_data"
    }
   ],
   "source": [
    "# Гистограмма по возрасту\n",
    "sns.countplot(x=\"Age\", data=df)"
   ]
  },
  {
   "cell_type": "code",
   "execution_count": 22,
   "id": "150f26cd",
   "metadata": {},
   "outputs": [
    {
     "data": {
      "text/plain": [
       "<AxesSubplot:xlabel='Age', ylabel='Count'>"
      ]
     },
     "execution_count": 22,
     "metadata": {},
     "output_type": "execute_result"
    },
    {
     "data": {
      "image/png": "[encoded data removed]",
      "text/plain": [
       "<Figure size 432x288 with 1 Axes>"
      ]
     },
     "metadata": {
      "needs_background": "light"
     },
     "output_type": "display_data"
    }
   ],
   "source": [
    "# Гистограмма по возрасту\n",
    "sns.histplot(x=\"Age\", data=df)"
   ]
  },
  {
   "cell_type": "markdown",
   "id": "521f966e",
   "metadata": {},
   "source": [
    "Гистогамма выглядит странно, надо посчитать значения по годам"
   ]
  },
  {
   "cell_type": "code",
   "execution_count": 23,
   "id": "ccdf94e5",
   "metadata": {},
   "outputs": [
    {
     "data": {
      "text/plain": [
       "25.0    2354\n",
       "23.0    2345\n",
       "26.0    2320\n",
       "24.0    2298\n",
       "27.0    2088\n",
       "        ... \n",
       "14.5       1\n",
       "74.5       1\n",
       "78.5       1\n",
       "13.5       1\n",
       "87.0       1\n",
       "Name: Age, Length: 173, dtype: int64"
      ]
     },
     "execution_count": 23,
     "metadata": {},
     "output_type": "execute_result"
    }
   ],
   "source": [
    "age_count = df.Age.value_counts()\n",
    "age_count"
   ]
  },
  {
   "cell_type": "markdown",
   "id": "0628b540",
   "metadata": {},
   "source": [
    "Подсчет по годам не превышает значения 2354. Похоже слишком мелкое разбиение искажает гистограмму"
   ]
  },
  {
   "cell_type": "code",
   "execution_count": 24,
   "id": "dcf44d79",
   "metadata": {},
   "outputs": [
    {
     "data": {
      "text/plain": [
       "<AxesSubplot:xlabel='Age', ylabel='Count'>"
      ]
     },
     "execution_count": 24,
     "metadata": {},
     "output_type": "execute_result"
    },
    {
     "data": {
      "image/png": "[encoded data removed]",
      "text/plain": [
       "<Figure size 432x288 with 1 Axes>"
      ]
     },
     "metadata": {
      "needs_background": "light"
     },
     "output_type": "display_data"
    }
   ],
   "source": [
    "# Сделаем гистограмму с шириной ячейки один год\n",
    "sns.histplot(x=\"Age\", data=df, binwidth=1)"
   ]
  },
  {
   "cell_type": "markdown",
   "id": "75a2ceea",
   "metadata": {},
   "source": [
    "Так выглядит лучше. Остался всплекс на младенцах 0-1"
   ]
  },
  {
   "cell_type": "code",
   "execution_count": 25,
   "id": "7376d7cd",
   "metadata": {},
   "outputs": [
    {
     "data": {
      "text/plain": [
       "0.08     39\n",
       "0.17     67\n",
       "0.25     68\n",
       "0.33     53\n",
       "0.42     62\n",
       "0.50     58\n",
       "0.58     62\n",
       "0.67     62\n",
       "0.75     57\n",
       "0.83     63\n",
       "0.92     51\n",
       "1.00    649\n",
       "1.50      2\n",
       "2.00    879\n",
       "2.50      7\n",
       "Name: Age, dtype: int64"
      ]
     },
     "execution_count": 25,
     "metadata": {},
     "output_type": "execute_result"
    }
   ],
   "source": [
    "age_count.sort_index().head(15)"
   ]
  },
  {
   "cell_type": "markdown",
   "id": "61798ecc",
   "metadata": {},
   "source": [
    "Значение на 1.0 вытягивает гистограмму. До года считают более дробно, тем кому больше года записывают год. В результате 0 и 1 попадают в одну корзину"
   ]
  },
  {
   "cell_type": "code",
   "execution_count": 26,
   "id": "391b6725",
   "metadata": {
    "scrolled": true
   },
   "outputs": [
    {
     "data": {
      "text/plain": [
       "<AxesSubplot:xlabel='SibSp', ylabel='count'>"
      ]
     },
     "execution_count": 26,
     "metadata": {},
     "output_type": "execute_result"
    },
    {
     "data": {
      "image/png": "[encoded data removed]",
      "text/plain": [
       "<Figure size 432x288 with 1 Axes>"
      ]
     },
     "metadata": {
      "needs_background": "light"
     },
     "output_type": "display_data"
    }
   ],
   "source": [
    "# Столбчатая диаграмма по критерию \"братья, сестры, супруги\"\n",
    "sns.countplot(x='SibSp', data=df)"
   ]
  },
  {
   "cell_type": "markdown",
   "id": "568667c3",
   "metadata": {},
   "source": [
    "Большинство путешествовало в одиночку\n",
    "TODO: Проверить выживаемость в зависимости от наличия родственников"
   ]
  },
  {
   "cell_type": "code",
   "execution_count": 27,
   "id": "e7085220",
   "metadata": {
    "scrolled": false
   },
   "outputs": [
    {
     "data": {
      "text/plain": [
       "<AxesSubplot:xlabel='Parch', ylabel='count'>"
      ]
     },
     "execution_count": 27,
     "metadata": {},
     "output_type": "execute_result"
    },
    {
     "data": {
      "image/png": "[encoded data removed]",
      "text/plain": [
       "<Figure size 432x288 with 1 Axes>"
      ]
     },
     "metadata": {
      "needs_background": "light"
     },
     "output_type": "display_data"
    }
   ],
   "source": [
    "sns.countplot(x='Parch', data=df)"
   ]
  },
  {
   "cell_type": "code",
   "execution_count": 28,
   "id": "51a35c6f",
   "metadata": {
    "scrolled": true
   },
   "outputs": [
    {
     "data": {
      "text/plain": [
       "<AxesSubplot:xlabel='has_relatives', ylabel='count'>"
      ]
     },
     "execution_count": 28,
     "metadata": {},
     "output_type": "execute_result"
    },
    {
     "data": {
      "image/png": "[encoded data removed]",
      "text/plain": [
       "<Figure size 432x288 with 1 Axes>"
      ]
     },
     "metadata": {
      "needs_background": "light"
     },
     "output_type": "display_data"
    }
   ],
   "source": [
    "# Гипотеза что у людей с родственниками больше шансов выжить\n",
    "df['has_relatives'] = (df.Parch > 0) | (df.SibSp >0)\n",
    "sns.countplot(x='has_relatives', data=df)"
   ]
  },
  {
   "cell_type": "code",
   "execution_count": 29,
   "id": "7abfc987",
   "metadata": {},
   "outputs": [
    {
     "data": {
      "text/plain": [
       "<AxesSubplot:xlabel='Survived', ylabel='count'>"
      ]
     },
     "execution_count": 29,
     "metadata": {},
     "output_type": "execute_result"
    },
    {
     "data": {
      "image/png": "[encoded data removed]",
      "text/plain": [
       "<Figure size 432x288 with 1 Axes>"
      ]
     },
     "metadata": {
      "needs_background": "light"
     },
     "output_type": "display_data"
    }
   ],
   "source": [
    "sns.countplot(x='Survived', hue='has_relatives', data=df)"
   ]
  },
  {
   "cell_type": "markdown",
   "id": "c447ece2",
   "metadata": {},
   "source": [
    "Из тех кто не выжил у большинства не было родственников"
   ]
  },
  {
   "cell_type": "code",
   "execution_count": 30,
   "id": "61e2b733",
   "metadata": {
    "scrolled": true
   },
   "outputs": [
    {
     "data": {
      "text/plain": [
       "<AxesSubplot:xlabel='Pclass', ylabel='Survived'>"
      ]
     },
     "execution_count": 30,
     "metadata": {},
     "output_type": "execute_result"
    },
    {
     "data": {
      "image/png": "[encoded data removed]",
      "text/plain": [
       "<Figure size 432x288 with 1 Axes>"
      ]
     },
     "metadata": {
      "needs_background": "light"
     },
     "output_type": "display_data"
    }
   ],
   "source": [
    "# Соотношение по наличию родственников по классам\n",
    "sns.barplot(x=\"Pclass\", y='Survived',hue=\"has_relatives\", data=df)"
   ]
  },
  {
   "cell_type": "code",
   "execution_count": 31,
   "id": "c1755fc5",
   "metadata": {},
   "outputs": [
    {
     "data": {
      "text/plain": [
       "<AxesSubplot:xlabel='Pclass', ylabel='Survived'>"
      ]
     },
     "execution_count": 31,
     "metadata": {},
     "output_type": "execute_result"
    },
    {
     "data": {
      "image/png": "[encoded data removed]",
      "text/plain": [
       "<Figure size 432x288 with 1 Axes>"
      ]
     },
     "metadata": {
      "needs_background": "light"
     },
     "output_type": "display_data"
    }
   ],
   "source": [
    "# Соотношение по наличию родственников по классам для женщин\n",
    "dff = df[df.Sex=='female']\n",
    "sns.barplot(x=\"Pclass\", y='Survived',hue=\"has_relatives\", data=dff)"
   ]
  },
  {
   "cell_type": "code",
   "execution_count": 32,
   "id": "805ecf9d",
   "metadata": {},
   "outputs": [
    {
     "data": {
      "text/plain": [
       "<AxesSubplot:xlabel='Pclass', ylabel='Survived'>"
      ]
     },
     "execution_count": 32,
     "metadata": {},
     "output_type": "execute_result"
    },
    {
     "data": {
      "image/png": "[encoded data removed]",
      "text/plain": [
       "<Figure size 432x288 with 1 Axes>"
      ]
     },
     "metadata": {
      "needs_background": "light"
     },
     "output_type": "display_data"
    }
   ],
   "source": [
    "# Соотношение по наличию родственников по классам для мужчин\n",
    "dfm = df[df.Sex=='male']\n",
    "sns.barplot(x=\"Pclass\", y='Survived',hue=\"has_relatives\", data=dfm)"
   ]
  },
  {
   "cell_type": "code",
   "execution_count": 33,
   "id": "fd1d05b7",
   "metadata": {},
   "outputs": [
    {
     "data": {
      "text/plain": [
       "<AxesSubplot:xlabel='Fare', ylabel='count'>"
      ]
     },
     "execution_count": 33,
     "metadata": {},
     "output_type": "execute_result"
    },
    {
     "data": {
      "image/png": "[encoded data removed]",
      "text/plain": [
       "<Figure size 432x288 with 1 Axes>"
      ]
     },
     "metadata": {
      "needs_background": "light"
     },
     "output_type": "display_data"
    }
   ],
   "source": [
    "# Гистограмма по стоимости билета\n",
    "sns.countplot(x='Fare', data=df)"
   ]
  },
  {
   "cell_type": "code",
   "execution_count": 34,
   "id": "2b7c34a8",
   "metadata": {},
   "outputs": [
    {
     "data": {
      "text/plain": [
       "<AxesSubplot:xlabel='Fare', ylabel='Count'>"
      ]
     },
     "execution_count": 34,
     "metadata": {},
     "output_type": "execute_result"
    },
    {
     "data": {
      "image/png": "[encoded data removed]",
      "text/plain": [
       "<Figure size 432x288 with 1 Axes>"
      ]
     },
     "metadata": {
      "needs_background": "light"
     },
     "output_type": "display_data"
    }
   ],
   "source": [
    "sns.histplot(x='Fare', data=df, binwidth=10)"
   ]
  },
  {
   "cell_type": "code",
   "execution_count": 35,
   "id": "d9aee46b",
   "metadata": {
    "scrolled": true
   },
   "outputs": [
    {
     "data": {
      "text/plain": [
       "<AxesSubplot:xlabel='Fare', ylabel='Count'>"
      ]
     },
     "execution_count": 35,
     "metadata": {},
     "output_type": "execute_result"
    },
    {
     "data": {
      "image/png": "[encoded data removed]",
      "text/plain": [
       "<Figure size 432x288 with 1 Axes>"
      ]
     },
     "metadata": {
      "needs_background": "light"
     },
     "output_type": "display_data"
    }
   ],
   "source": [
    "sns.histplot(x='Fare', data=df[df.Fare < 100], binwidth=10)"
   ]
  },
  {
   "cell_type": "code",
   "execution_count": 36,
   "id": "807d05a2",
   "metadata": {},
   "outputs": [
    {
     "data": {
      "text/plain": [
       "<AxesSubplot:xlabel='Fare', ylabel='Count'>"
      ]
     },
     "execution_count": 36,
     "metadata": {},
     "output_type": "execute_result"
    },
    {
     "data": {
      "image/png": "[encoded data removed]",
      "text/plain": [
       "<Figure size 432x288 with 1 Axes>"
      ]
     },
     "metadata": {
      "needs_background": "light"
     },
     "output_type": "display_data"
    }
   ],
   "source": [
    "sns.histplot(x='Fare', data=df[df.Fare >= 100], binwidth=10)"
   ]
  },
  {
   "cell_type": "code",
   "execution_count": 37,
   "id": "a2211c52",
   "metadata": {
    "scrolled": true
   },
   "outputs": [
    {
     "data": {
      "text/plain": [
       "<AxesSubplot:xlabel='Embarked', ylabel='count'>"
      ]
     },
     "execution_count": 37,
     "metadata": {},
     "output_type": "execute_result"
    },
    {
     "data": {
      "image/png": "[encoded data removed]",
      "text/plain": [
       "<Figure size 432x288 with 1 Axes>"
      ]
     },
     "metadata": {
      "needs_background": "light"
     },
     "output_type": "display_data"
    }
   ],
   "source": [
    "# Столбчатая диаграмма по месту посадки\n",
    "sns.countplot(x='Embarked', data=df)"
   ]
  },
  {
   "cell_type": "code",
   "execution_count": 38,
   "id": "4d29873f",
   "metadata": {
    "scrolled": true
   },
   "outputs": [
    {
     "data": {
      "text/plain": [
       "<AxesSubplot:xlabel='Pclass', ylabel='Fare'>"
      ]
     },
     "execution_count": 38,
     "metadata": {},
     "output_type": "execute_result"
    },
    {
     "data": {
      "image/png": "[encoded data removed]",
      "text/plain": [
       "<Figure size 432x288 with 1 Axes>"
      ]
     },
     "metadata": {
      "needs_background": "light"
     },
     "output_type": "display_data"
    }
   ],
   "source": [
    "# Зависимость стоимости билета от класса\n",
    "# Наиболее дорогие билеты ожидаемо в первом классе\n",
    "sns.barplot(x=\"Pclass\", y=\"Fare\", data=df)"
   ]
  },
  {
   "cell_type": "code",
   "execution_count": 82,
   "id": "f7d7bdaf",
   "metadata": {
    "scrolled": false
   },
   "outputs": [
    {
     "data": {
      "text/plain": [
       "<AxesSubplot:xlabel='Pclass', ylabel='Survived'>"
      ]
     },
     "execution_count": 82,
     "metadata": {},
     "output_type": "execute_result"
    },
    {
     "data": {
      "image/png": "[encoded data removed]",
      "text/plain": [
       "<Figure size 432x288 with 1 Axes>"
      ]
     },
     "metadata": {
      "needs_background": "light"
     },
     "output_type": "display_data"
    }
   ],
   "source": [
    "# Столбчатая диаграмма выжившие по классам\n",
    "# Меньше всего выживших ехавших третим классом\n",
    "sns.barplot(x=\"Pclass\", y=\"Survived\", data=df)"
   ]
  },
  {
   "cell_type": "markdown",
   "id": "174ad492",
   "metadata": {},
   "source": [
    "Разница в стоимости билета между 2 и 3 классом не большая, а разница в выживании значительная"
   ]
  },
  {
   "cell_type": "code",
   "execution_count": 40,
   "id": "d057f0c7",
   "metadata": {
    "scrolled": true
   },
   "outputs": [
    {
     "data": {
      "text/plain": [
       "<AxesSubplot:xlabel='Pclass', ylabel='Survived'>"
      ]
     },
     "execution_count": 40,
     "metadata": {},
     "output_type": "execute_result"
    },
    {
     "data": {
      "image/png": "[encoded data removed]",
      "text/plain": [
       "<Figure size 432x288 with 1 Axes>"
      ]
     },
     "metadata": {
      "needs_background": "light"
     },
     "output_type": "display_data"
    }
   ],
   "source": [
    "# Зависимость выживаемости от класса\n",
    "sns.barplot(x=\"Pclass\", y=\"Survived\", data=df, hue=\"Sex\")"
   ]
  },
  {
   "cell_type": "markdown",
   "id": "713941a4",
   "metadata": {},
   "source": [
    "По всем класса большинство выживших женщины"
   ]
  },
  {
   "cell_type": "code",
   "execution_count": 42,
   "id": "3c15cc0d",
   "metadata": {},
   "outputs": [],
   "source": [
    "df.Fare = df.Fare.fillna(0)"
   ]
  },
  {
   "cell_type": "code",
   "execution_count": 43,
   "id": "a216ed79",
   "metadata": {},
   "outputs": [
    {
     "data": {
      "text/html": [
       "<div>\n",
       "<style scoped>\n",
       "    .dataframe tbody tr th:only-of-type {\n",
       "        vertical-align: middle;\n",
       "    }\n",
       "\n",
       "    .dataframe tbody tr th {\n",
       "        vertical-align: top;\n",
       "    }\n",
       "\n",
       "    .dataframe thead th {\n",
       "        text-align: right;\n",
       "    }\n",
       "</style>\n",
       "<table border=\"1\" class=\"dataframe\">\n",
       "  <thead>\n",
       "    <tr style=\"text-align: right;\">\n",
       "      <th></th>\n",
       "      <th>PassengerId</th>\n",
       "      <th>Survived</th>\n",
       "      <th>Pclass</th>\n",
       "      <th>Name</th>\n",
       "      <th>Sex</th>\n",
       "      <th>Age</th>\n",
       "      <th>SibSp</th>\n",
       "      <th>Parch</th>\n",
       "      <th>Ticket</th>\n",
       "      <th>Fare</th>\n",
       "      <th>Cabin</th>\n",
       "      <th>Embarked</th>\n",
       "      <th>has_relatives</th>\n",
       "    </tr>\n",
       "  </thead>\n",
       "  <tbody>\n",
       "    <tr>\n",
       "      <th>39</th>\n",
       "      <td>39</td>\n",
       "      <td>True</td>\n",
       "      <td>2</td>\n",
       "      <td>Cultice, May</td>\n",
       "      <td>female</td>\n",
       "      <td>61.0</td>\n",
       "      <td>0</td>\n",
       "      <td>0</td>\n",
       "      <td>10193</td>\n",
       "      <td>0.0</td>\n",
       "      <td>NaN</td>\n",
       "      <td>S</td>\n",
       "      <td>False</td>\n",
       "    </tr>\n",
       "    <tr>\n",
       "      <th>1404</th>\n",
       "      <td>1404</td>\n",
       "      <td>True</td>\n",
       "      <td>1</td>\n",
       "      <td>Kerr, Maryann</td>\n",
       "      <td>female</td>\n",
       "      <td>55.0</td>\n",
       "      <td>0</td>\n",
       "      <td>0</td>\n",
       "      <td>15792</td>\n",
       "      <td>0.0</td>\n",
       "      <td>C5721</td>\n",
       "      <td>C</td>\n",
       "      <td>False</td>\n",
       "    </tr>\n",
       "    <tr>\n",
       "      <th>1909</th>\n",
       "      <td>1909</td>\n",
       "      <td>True</td>\n",
       "      <td>2</td>\n",
       "      <td>Thomas, Jennifer</td>\n",
       "      <td>female</td>\n",
       "      <td>22.0</td>\n",
       "      <td>0</td>\n",
       "      <td>0</td>\n",
       "      <td>12598</td>\n",
       "      <td>0.0</td>\n",
       "      <td>NaN</td>\n",
       "      <td>Q</td>\n",
       "      <td>False</td>\n",
       "    </tr>\n",
       "    <tr>\n",
       "      <th>1999</th>\n",
       "      <td>1999</td>\n",
       "      <td>False</td>\n",
       "      <td>3</td>\n",
       "      <td>Flatley, Trena</td>\n",
       "      <td>female</td>\n",
       "      <td>3.0</td>\n",
       "      <td>1</td>\n",
       "      <td>2</td>\n",
       "      <td>457224</td>\n",
       "      <td>0.0</td>\n",
       "      <td>NaN</td>\n",
       "      <td>S</td>\n",
       "      <td>True</td>\n",
       "    </tr>\n",
       "    <tr>\n",
       "      <th>3885</th>\n",
       "      <td>3885</td>\n",
       "      <td>True</td>\n",
       "      <td>1</td>\n",
       "      <td>Harding, Lillian</td>\n",
       "      <td>female</td>\n",
       "      <td>48.0</td>\n",
       "      <td>1</td>\n",
       "      <td>2</td>\n",
       "      <td>14367</td>\n",
       "      <td>0.0</td>\n",
       "      <td>B7243</td>\n",
       "      <td>C</td>\n",
       "      <td>True</td>\n",
       "    </tr>\n",
       "    <tr>\n",
       "      <th>...</th>\n",
       "      <td>...</td>\n",
       "      <td>...</td>\n",
       "      <td>...</td>\n",
       "      <td>...</td>\n",
       "      <td>...</td>\n",
       "      <td>...</td>\n",
       "      <td>...</td>\n",
       "      <td>...</td>\n",
       "      <td>...</td>\n",
       "      <td>...</td>\n",
       "      <td>...</td>\n",
       "      <td>...</td>\n",
       "      <td>...</td>\n",
       "    </tr>\n",
       "    <tr>\n",
       "      <th>92227</th>\n",
       "      <td>92227</td>\n",
       "      <td>True</td>\n",
       "      <td>3</td>\n",
       "      <td>Ramsay, Miriam</td>\n",
       "      <td>female</td>\n",
       "      <td>28.0</td>\n",
       "      <td>0</td>\n",
       "      <td>0</td>\n",
       "      <td>428649</td>\n",
       "      <td>0.0</td>\n",
       "      <td>NaN</td>\n",
       "      <td>S</td>\n",
       "      <td>False</td>\n",
       "    </tr>\n",
       "    <tr>\n",
       "      <th>93617</th>\n",
       "      <td>93617</td>\n",
       "      <td>True</td>\n",
       "      <td>2</td>\n",
       "      <td>Hernandez, Tina</td>\n",
       "      <td>female</td>\n",
       "      <td>51.0</td>\n",
       "      <td>0</td>\n",
       "      <td>0</td>\n",
       "      <td>F.C. 31451</td>\n",
       "      <td>0.0</td>\n",
       "      <td>NaN</td>\n",
       "      <td>Q</td>\n",
       "      <td>False</td>\n",
       "    </tr>\n",
       "    <tr>\n",
       "      <th>93908</th>\n",
       "      <td>93908</td>\n",
       "      <td>False</td>\n",
       "      <td>2</td>\n",
       "      <td>Cauthen, Judith</td>\n",
       "      <td>female</td>\n",
       "      <td>34.0</td>\n",
       "      <td>0</td>\n",
       "      <td>0</td>\n",
       "      <td>PC 490559</td>\n",
       "      <td>0.0</td>\n",
       "      <td>D16881</td>\n",
       "      <td>C</td>\n",
       "      <td>False</td>\n",
       "    </tr>\n",
       "    <tr>\n",
       "      <th>94656</th>\n",
       "      <td>94656</td>\n",
       "      <td>False</td>\n",
       "      <td>3</td>\n",
       "      <td>Compton, William</td>\n",
       "      <td>male</td>\n",
       "      <td>26.0</td>\n",
       "      <td>0</td>\n",
       "      <td>0</td>\n",
       "      <td>466015</td>\n",
       "      <td>0.0</td>\n",
       "      <td>NaN</td>\n",
       "      <td>S</td>\n",
       "      <td>False</td>\n",
       "    </tr>\n",
       "    <tr>\n",
       "      <th>97944</th>\n",
       "      <td>97944</td>\n",
       "      <td>True</td>\n",
       "      <td>3</td>\n",
       "      <td>Engleberg, Melba</td>\n",
       "      <td>female</td>\n",
       "      <td>66.0</td>\n",
       "      <td>0</td>\n",
       "      <td>1</td>\n",
       "      <td>SC/PARIS 300188</td>\n",
       "      <td>0.0</td>\n",
       "      <td>NaN</td>\n",
       "      <td>S</td>\n",
       "      <td>True</td>\n",
       "    </tr>\n",
       "  </tbody>\n",
       "</table>\n",
       "<p>134 rows × 13 columns</p>\n",
       "</div>"
      ],
      "text/plain": [
       "       PassengerId  Survived  Pclass              Name     Sex   Age  SibSp  \\\n",
       "39              39      True       2      Cultice, May  female  61.0      0   \n",
       "1404          1404      True       1     Kerr, Maryann  female  55.0      0   \n",
       "1909          1909      True       2  Thomas, Jennifer  female  22.0      0   \n",
       "1999          1999     False       3    Flatley, Trena  female   3.0      1   \n",
       "3885          3885      True       1  Harding, Lillian  female  48.0      1   \n",
       "...            ...       ...     ...               ...     ...   ...    ...   \n",
       "92227        92227      True       3    Ramsay, Miriam  female  28.0      0   \n",
       "93617        93617      True       2   Hernandez, Tina  female  51.0      0   \n",
       "93908        93908     False       2   Cauthen, Judith  female  34.0      0   \n",
       "94656        94656     False       3  Compton, William    male  26.0      0   \n",
       "97944        97944      True       3  Engleberg, Melba  female  66.0      0   \n",
       "\n",
       "       Parch           Ticket  Fare   Cabin Embarked  has_relatives  \n",
       "39         0            10193   0.0     NaN        S          False  \n",
       "1404       0            15792   0.0   C5721        C          False  \n",
       "1909       0            12598   0.0     NaN        Q          False  \n",
       "1999       2           457224   0.0     NaN        S           True  \n",
       "3885       2            14367   0.0   B7243        C           True  \n",
       "...      ...              ...   ...     ...      ...            ...  \n",
       "92227      0           428649   0.0     NaN        S          False  \n",
       "93617      0       F.C. 31451   0.0     NaN        Q          False  \n",
       "93908      0        PC 490559   0.0  D16881        C          False  \n",
       "94656      0           466015   0.0     NaN        S          False  \n",
       "97944      1  SC/PARIS 300188   0.0     NaN        S           True  \n",
       "\n",
       "[134 rows x 13 columns]"
      ]
     },
     "execution_count": 43,
     "metadata": {},
     "output_type": "execute_result"
    }
   ],
   "source": [
    "df[df.Fare == 0]"
   ]
  },
  {
   "cell_type": "code",
   "execution_count": 44,
   "id": "fb7f6a1b",
   "metadata": {},
   "outputs": [
    {
     "data": {
      "text/plain": [
       "<AxesSubplot:xlabel='Pclass', ylabel='Fare'>"
      ]
     },
     "execution_count": 44,
     "metadata": {},
     "output_type": "execute_result"
    },
    {
     "data": {
      "image/png": "[encoded data removed]",
      "text/plain": [
       "<Figure size 432x288 with 1 Axes>"
      ]
     },
     "metadata": {
      "needs_background": "light"
     },
     "output_type": "display_data"
    }
   ],
   "source": [
    "sns.barplot(x='Pclass', y='Fare', hue='Survived', data=df)"
   ]
  },
  {
   "cell_type": "code",
   "execution_count": 45,
   "id": "63c38529",
   "metadata": {},
   "outputs": [
    {
     "data": {
      "text/plain": [
       "<AxesSubplot:xlabel='Age', ylabel='Count'>"
      ]
     },
     "execution_count": 45,
     "metadata": {},
     "output_type": "execute_result"
    },
    {
     "data": {
      "image/png": "[encoded data removed]",
      "text/plain": [
       "<Figure size 432x288 with 1 Axes>"
      ]
     },
     "metadata": {
      "needs_background": "light"
     },
     "output_type": "display_data"
    }
   ],
   "source": [
    "sns.histplot(x=\"Age\", data=df, hue='Survived', binwidth=1)"
   ]
  },
  {
   "cell_type": "code",
   "execution_count": 46,
   "id": "23f149fa",
   "metadata": {
    "scrolled": true
   },
   "outputs": [
    {
     "data": {
      "text/plain": [
       "<AxesSubplot:xlabel='Age', ylabel='Percent'>"
      ]
     },
     "execution_count": 46,
     "metadata": {},
     "output_type": "execute_result"
    },
    {
     "data": {
      "image/png": "[encoded data removed]",
      "text/plain": [
       "<Figure size 432x288 with 1 Axes>"
      ]
     },
     "metadata": {
      "needs_background": "light"
     },
     "output_type": "display_data"
    }
   ],
   "source": [
    "sns.histplot(x=\"Age\", data=df, hue='Survived', binwidth=5, stat=\"percent\")"
   ]
  },
  {
   "cell_type": "code",
   "execution_count": 47,
   "id": "96d974a2",
   "metadata": {},
   "outputs": [],
   "source": [
    "# Поделим пассажиров на категории по возрасту\n",
    "df['age_groups'] = pd.cut(df.Age, bins=30)"
   ]
  },
  {
   "cell_type": "code",
   "execution_count": 48,
   "id": "73e9d0b0",
   "metadata": {},
   "outputs": [
    {
     "data": {
      "image/png": "[encoded data removed]",
      "text/plain": [
       "<Figure size 432x288 with 1 Axes>"
      ]
     },
     "metadata": {
      "needs_background": "light"
     },
     "output_type": "display_data"
    }
   ],
   "source": [
    "# Построим столбчатую диаграмму соотношения выживших к общему числу по возрастным группам\n",
    "df_age = df[\"age_groups\"].value_counts().reset_index()\n",
    "df_age = df_age.rename(columns={'index': 'intervals', 'age_groups': 'counts'})\n",
    "df_age_survived = df['age_groups'][df['Survived']==True].value_counts().reset_index()\n",
    "df_age_survived = df_age_survived.rename(columns={'index': 'intervals', 'age_groups': 'survived_counts'})\n",
    "df_s = df_age.merge(df_age_survived, on='intervals')\n",
    "df_s['ratio'] = df_s.survived_counts/df_s.counts\n",
    "sns.barplot(x='intervals', y='ratio', data=df_s)\n",
    "ticks = plt.xticks(rotation=90)"
   ]
  },
  {
   "cell_type": "code",
   "execution_count": 49,
   "id": "c54d5d4b",
   "metadata": {},
   "outputs": [
    {
     "data": {
      "text/html": [
       "<div>\n",
       "<style scoped>\n",
       "    .dataframe tbody tr th:only-of-type {\n",
       "        vertical-align: middle;\n",
       "    }\n",
       "\n",
       "    .dataframe tbody tr th {\n",
       "        vertical-align: top;\n",
       "    }\n",
       "\n",
       "    .dataframe thead th {\n",
       "        text-align: right;\n",
       "    }\n",
       "</style>\n",
       "<table border=\"1\" class=\"dataframe\">\n",
       "  <thead>\n",
       "    <tr style=\"text-align: right;\">\n",
       "      <th></th>\n",
       "      <th>intervals</th>\n",
       "      <th>counts</th>\n",
       "      <th>survived_counts</th>\n",
       "      <th>ratio</th>\n",
       "    </tr>\n",
       "  </thead>\n",
       "  <tbody>\n",
       "    <tr>\n",
       "      <th>0</th>\n",
       "      <td>(23.259, 26.156]</td>\n",
       "      <td>7011</td>\n",
       "      <td>2341</td>\n",
       "      <td>0.333904</td>\n",
       "    </tr>\n",
       "    <tr>\n",
       "      <th>1</th>\n",
       "      <td>(20.361, 23.259]</td>\n",
       "      <td>6065</td>\n",
       "      <td>1784</td>\n",
       "      <td>0.294147</td>\n",
       "    </tr>\n",
       "    <tr>\n",
       "      <th>2</th>\n",
       "      <td>(26.156, 29.053]</td>\n",
       "      <td>5802</td>\n",
       "      <td>2251</td>\n",
       "      <td>0.387970</td>\n",
       "    </tr>\n",
       "    <tr>\n",
       "      <th>3</th>\n",
       "      <td>(52.232, 55.129]</td>\n",
       "      <td>5590</td>\n",
       "      <td>2604</td>\n",
       "      <td>0.465832</td>\n",
       "    </tr>\n",
       "    <tr>\n",
       "      <th>4</th>\n",
       "      <td>(49.335, 52.232]</td>\n",
       "      <td>5538</td>\n",
       "      <td>2631</td>\n",
       "      <td>0.475081</td>\n",
       "    </tr>\n",
       "    <tr>\n",
       "      <th>5</th>\n",
       "      <td>(55.129, 58.027]</td>\n",
       "      <td>5376</td>\n",
       "      <td>2525</td>\n",
       "      <td>0.469680</td>\n",
       "    </tr>\n",
       "    <tr>\n",
       "      <th>6</th>\n",
       "      <td>(46.437, 49.335]</td>\n",
       "      <td>5083</td>\n",
       "      <td>2445</td>\n",
       "      <td>0.481015</td>\n",
       "    </tr>\n",
       "    <tr>\n",
       "      <th>7</th>\n",
       "      <td>(31.951, 34.848]</td>\n",
       "      <td>4768</td>\n",
       "      <td>1676</td>\n",
       "      <td>0.351510</td>\n",
       "    </tr>\n",
       "    <tr>\n",
       "      <th>8</th>\n",
       "      <td>(34.848, 37.745]</td>\n",
       "      <td>4661</td>\n",
       "      <td>1752</td>\n",
       "      <td>0.375885</td>\n",
       "    </tr>\n",
       "    <tr>\n",
       "      <th>9</th>\n",
       "      <td>(43.54, 46.437]</td>\n",
       "      <td>4628</td>\n",
       "      <td>2206</td>\n",
       "      <td>0.476664</td>\n",
       "    </tr>\n",
       "    <tr>\n",
       "      <th>10</th>\n",
       "      <td>(37.745, 40.643]</td>\n",
       "      <td>4570</td>\n",
       "      <td>1926</td>\n",
       "      <td>0.421444</td>\n",
       "    </tr>\n",
       "    <tr>\n",
       "      <th>11</th>\n",
       "      <td>(40.643, 43.54]</td>\n",
       "      <td>4423</td>\n",
       "      <td>2078</td>\n",
       "      <td>0.469817</td>\n",
       "    </tr>\n",
       "    <tr>\n",
       "      <th>12</th>\n",
       "      <td>(60.924, 63.821]</td>\n",
       "      <td>4128</td>\n",
       "      <td>2049</td>\n",
       "      <td>0.496366</td>\n",
       "    </tr>\n",
       "    <tr>\n",
       "      <th>13</th>\n",
       "      <td>(29.053, 31.951]</td>\n",
       "      <td>3330</td>\n",
       "      <td>1320</td>\n",
       "      <td>0.396396</td>\n",
       "    </tr>\n",
       "    <tr>\n",
       "      <th>14</th>\n",
       "      <td>(58.027, 60.924]</td>\n",
       "      <td>3203</td>\n",
       "      <td>1502</td>\n",
       "      <td>0.468935</td>\n",
       "    </tr>\n",
       "    <tr>\n",
       "      <th>15</th>\n",
       "      <td>(63.821, 66.719]</td>\n",
       "      <td>3120</td>\n",
       "      <td>1591</td>\n",
       "      <td>0.509936</td>\n",
       "    </tr>\n",
       "    <tr>\n",
       "      <th>16</th>\n",
       "      <td>(17.464, 20.361]</td>\n",
       "      <td>3080</td>\n",
       "      <td>906</td>\n",
       "      <td>0.294156</td>\n",
       "    </tr>\n",
       "    <tr>\n",
       "      <th>17</th>\n",
       "      <td>(2.977, 5.875]</td>\n",
       "      <td>2957</td>\n",
       "      <td>1176</td>\n",
       "      <td>0.397700</td>\n",
       "    </tr>\n",
       "    <tr>\n",
       "      <th>18</th>\n",
       "      <td>(5.875, 8.772]</td>\n",
       "      <td>2740</td>\n",
       "      <td>1147</td>\n",
       "      <td>0.418613</td>\n",
       "    </tr>\n",
       "    <tr>\n",
       "      <th>19</th>\n",
       "      <td>(-0.00692, 2.977]</td>\n",
       "      <td>2179</td>\n",
       "      <td>825</td>\n",
       "      <td>0.378614</td>\n",
       "    </tr>\n",
       "    <tr>\n",
       "      <th>20</th>\n",
       "      <td>(66.719, 69.616]</td>\n",
       "      <td>2013</td>\n",
       "      <td>1099</td>\n",
       "      <td>0.545951</td>\n",
       "    </tr>\n",
       "    <tr>\n",
       "      <th>21</th>\n",
       "      <td>(8.772, 11.669]</td>\n",
       "      <td>1861</td>\n",
       "      <td>914</td>\n",
       "      <td>0.491134</td>\n",
       "    </tr>\n",
       "    <tr>\n",
       "      <th>22</th>\n",
       "      <td>(69.616, 72.513]</td>\n",
       "      <td>1283</td>\n",
       "      <td>780</td>\n",
       "      <td>0.607950</td>\n",
       "    </tr>\n",
       "    <tr>\n",
       "      <th>23</th>\n",
       "      <td>(11.669, 14.567]</td>\n",
       "      <td>1115</td>\n",
       "      <td>722</td>\n",
       "      <td>0.647534</td>\n",
       "    </tr>\n",
       "    <tr>\n",
       "      <th>24</th>\n",
       "      <td>(14.567, 17.464]</td>\n",
       "      <td>1065</td>\n",
       "      <td>428</td>\n",
       "      <td>0.401878</td>\n",
       "    </tr>\n",
       "    <tr>\n",
       "      <th>25</th>\n",
       "      <td>(72.513, 75.411]</td>\n",
       "      <td>678</td>\n",
       "      <td>425</td>\n",
       "      <td>0.626844</td>\n",
       "    </tr>\n",
       "    <tr>\n",
       "      <th>26</th>\n",
       "      <td>(75.411, 78.308]</td>\n",
       "      <td>294</td>\n",
       "      <td>197</td>\n",
       "      <td>0.670068</td>\n",
       "    </tr>\n",
       "    <tr>\n",
       "      <th>27</th>\n",
       "      <td>(78.308, 81.205]</td>\n",
       "      <td>119</td>\n",
       "      <td>94</td>\n",
       "      <td>0.789916</td>\n",
       "    </tr>\n",
       "    <tr>\n",
       "      <th>28</th>\n",
       "      <td>(81.205, 84.103]</td>\n",
       "      <td>21</td>\n",
       "      <td>17</td>\n",
       "      <td>0.809524</td>\n",
       "    </tr>\n",
       "    <tr>\n",
       "      <th>29</th>\n",
       "      <td>(84.103, 87.0]</td>\n",
       "      <td>7</td>\n",
       "      <td>7</td>\n",
       "      <td>1.000000</td>\n",
       "    </tr>\n",
       "  </tbody>\n",
       "</table>\n",
       "</div>"
      ],
      "text/plain": [
       "            intervals  counts  survived_counts     ratio\n",
       "0    (23.259, 26.156]    7011             2341  0.333904\n",
       "1    (20.361, 23.259]    6065             1784  0.294147\n",
       "2    (26.156, 29.053]    5802             2251  0.387970\n",
       "3    (52.232, 55.129]    5590             2604  0.465832\n",
       "4    (49.335, 52.232]    5538             2631  0.475081\n",
       "5    (55.129, 58.027]    5376             2525  0.469680\n",
       "6    (46.437, 49.335]    5083             2445  0.481015\n",
       "7    (31.951, 34.848]    4768             1676  0.351510\n",
       "8    (34.848, 37.745]    4661             1752  0.375885\n",
       "9     (43.54, 46.437]    4628             2206  0.476664\n",
       "10   (37.745, 40.643]    4570             1926  0.421444\n",
       "11    (40.643, 43.54]    4423             2078  0.469817\n",
       "12   (60.924, 63.821]    4128             2049  0.496366\n",
       "13   (29.053, 31.951]    3330             1320  0.396396\n",
       "14   (58.027, 60.924]    3203             1502  0.468935\n",
       "15   (63.821, 66.719]    3120             1591  0.509936\n",
       "16   (17.464, 20.361]    3080              906  0.294156\n",
       "17     (2.977, 5.875]    2957             1176  0.397700\n",
       "18     (5.875, 8.772]    2740             1147  0.418613\n",
       "19  (-0.00692, 2.977]    2179              825  0.378614\n",
       "20   (66.719, 69.616]    2013             1099  0.545951\n",
       "21    (8.772, 11.669]    1861              914  0.491134\n",
       "22   (69.616, 72.513]    1283              780  0.607950\n",
       "23   (11.669, 14.567]    1115              722  0.647534\n",
       "24   (14.567, 17.464]    1065              428  0.401878\n",
       "25   (72.513, 75.411]     678              425  0.626844\n",
       "26   (75.411, 78.308]     294              197  0.670068\n",
       "27   (78.308, 81.205]     119               94  0.789916\n",
       "28   (81.205, 84.103]      21               17  0.809524\n",
       "29     (84.103, 87.0]       7                7  1.000000"
      ]
     },
     "execution_count": 49,
     "metadata": {},
     "output_type": "execute_result"
    }
   ],
   "source": [
    "df_s"
   ]
  },
  {
   "cell_type": "code",
   "execution_count": 50,
   "id": "04f3f18e",
   "metadata": {
    "scrolled": false
   },
   "outputs": [
    {
     "data": {
      "image/png": "[encoded data removed]",
      "text/plain": [
       "<Figure size 432x288 with 1 Axes>"
      ]
     },
     "metadata": {
      "needs_background": "light"
     },
     "output_type": "display_data"
    }
   ],
   "source": [
    "sns.barplot(x='intervals', y='survived_counts', data=df_s)\n",
    "ticks = plt.xticks(rotation=90)"
   ]
  },
  {
   "cell_type": "code",
   "execution_count": 51,
   "id": "9c4820ec",
   "metadata": {},
   "outputs": [
    {
     "data": {
      "image/png": "[encoded data removed]",
      "text/plain": [
       "<Figure size 432x288 with 1 Axes>"
      ]
     },
     "metadata": {
      "needs_background": "light"
     },
     "output_type": "display_data"
    }
   ],
   "source": [
    "# Построим столбчатую диаграмму соотношения выживших к общему числу по возрастным группам для мужчин\n",
    "df_male_s = df[df.Sex == 'male']\n",
    "df_age = df_male_s[\"age_groups\"].value_counts().reset_index()\n",
    "df_age = df_age.rename(columns={'index': 'intervals', 'age_groups': 'counts'})\n",
    "\n",
    "df_age_survived = df_male_s['age_groups'][df_male_s['Survived']==True].value_counts().reset_index()\n",
    "df_age_survived = df_age_survived.rename(columns={'index': 'intervals', 'age_groups': 'survived_counts'})\n",
    "df_s = df_age.merge(df_age_survived, on='intervals')\n",
    "df_s['ratio'] = df_s.survived_counts/df_s.counts\n",
    "sns.barplot(x='intervals', y='ratio', data=df_s)\n",
    "ticks = plt.xticks(rotation=90)"
   ]
  },
  {
   "cell_type": "code",
   "execution_count": 53,
   "id": "5a75e7aa",
   "metadata": {},
   "outputs": [
    {
     "data": {
      "image/png": "[encoded data removed]",
      "text/plain": [
       "<Figure size 432x288 with 1 Axes>"
      ]
     },
     "metadata": {
      "needs_background": "light"
     },
     "output_type": "display_data"
    }
   ],
   "source": [
    "# Построим столбчатую диаграмму соотношения выживших к общему числу по возрастным группам для женщин\n",
    "df_female_s = df[df.Sex == 'female']\n",
    "df_age = df_female_s[\"age_groups\"].value_counts().reset_index()\n",
    "df_age = df_age.rename(columns={'index': 'intervals', 'age_groups': 'counts'})\n",
    "df_age_survived = df_female_s['age_groups'][df_female_s['Survived']==True].value_counts().reset_index()\n",
    "df_age_survived = df_age_survived.rename(columns={'index': 'intervals', 'age_groups': 'survived_counts'})\n",
    "df_s = df_age.merge(df_age_survived, on='intervals')\n",
    "df_s['ratio'] = df_s.survived_counts/df_s.counts\n",
    "sns.barplot(x='intervals', y='ratio', data=df_s)\n",
    "ticks = plt.xticks(rotation=90)"
   ]
  },
  {
   "cell_type": "markdown",
   "id": "dc3c86a5",
   "metadata": {},
   "source": [
    "Девочки даже в младшей возрастной группе выжили лучше чем мальчики"
   ]
  },
  {
   "cell_type": "code",
   "execution_count": 55,
   "id": "54ecd7b9",
   "metadata": {},
   "outputs": [
    {
     "data": {
      "text/html": [
       "<div>\n",
       "<style scoped>\n",
       "    .dataframe tbody tr th:only-of-type {\n",
       "        vertical-align: middle;\n",
       "    }\n",
       "\n",
       "    .dataframe tbody tr th {\n",
       "        vertical-align: top;\n",
       "    }\n",
       "\n",
       "    .dataframe thead th {\n",
       "        text-align: right;\n",
       "    }\n",
       "</style>\n",
       "<table border=\"1\" class=\"dataframe\">\n",
       "  <thead>\n",
       "    <tr style=\"text-align: right;\">\n",
       "      <th></th>\n",
       "      <th>PassengerId</th>\n",
       "      <th>Survived</th>\n",
       "      <th>Pclass</th>\n",
       "      <th>Name</th>\n",
       "      <th>Sex</th>\n",
       "      <th>Age</th>\n",
       "      <th>SibSp</th>\n",
       "      <th>Parch</th>\n",
       "      <th>Ticket</th>\n",
       "      <th>Fare</th>\n",
       "      <th>Cabin</th>\n",
       "      <th>Embarked</th>\n",
       "      <th>has_relatives</th>\n",
       "      <th>age_groups</th>\n",
       "    </tr>\n",
       "  </thead>\n",
       "  <tbody>\n",
       "    <tr>\n",
       "      <th>17667</th>\n",
       "      <td>17667</td>\n",
       "      <td>True</td>\n",
       "      <td>3</td>\n",
       "      <td>Merritt, Colleen</td>\n",
       "      <td>female</td>\n",
       "      <td>85.0</td>\n",
       "      <td>0</td>\n",
       "      <td>1</td>\n",
       "      <td>PP 10297</td>\n",
       "      <td>14.73</td>\n",
       "      <td>G6187</td>\n",
       "      <td>C</td>\n",
       "      <td>True</td>\n",
       "      <td>(84.103, 87.0]</td>\n",
       "    </tr>\n",
       "    <tr>\n",
       "      <th>47612</th>\n",
       "      <td>47612</td>\n",
       "      <td>True</td>\n",
       "      <td>2</td>\n",
       "      <td>Fowler, Chasity</td>\n",
       "      <td>female</td>\n",
       "      <td>85.0</td>\n",
       "      <td>0</td>\n",
       "      <td>0</td>\n",
       "      <td>NaN</td>\n",
       "      <td>24.06</td>\n",
       "      <td>NaN</td>\n",
       "      <td>S</td>\n",
       "      <td>False</td>\n",
       "      <td>(84.103, 87.0]</td>\n",
       "    </tr>\n",
       "    <tr>\n",
       "      <th>55085</th>\n",
       "      <td>55085</td>\n",
       "      <td>True</td>\n",
       "      <td>2</td>\n",
       "      <td>Steelman, Rose</td>\n",
       "      <td>female</td>\n",
       "      <td>87.0</td>\n",
       "      <td>0</td>\n",
       "      <td>2</td>\n",
       "      <td>27657</td>\n",
       "      <td>35.80</td>\n",
       "      <td>NaN</td>\n",
       "      <td>C</td>\n",
       "      <td>True</td>\n",
       "      <td>(84.103, 87.0]</td>\n",
       "    </tr>\n",
       "    <tr>\n",
       "      <th>60877</th>\n",
       "      <td>60877</td>\n",
       "      <td>True</td>\n",
       "      <td>2</td>\n",
       "      <td>Ashley, Billy</td>\n",
       "      <td>male</td>\n",
       "      <td>85.0</td>\n",
       "      <td>0</td>\n",
       "      <td>0</td>\n",
       "      <td>C.A.</td>\n",
       "      <td>11.03</td>\n",
       "      <td>NaN</td>\n",
       "      <td>S</td>\n",
       "      <td>False</td>\n",
       "      <td>(84.103, 87.0]</td>\n",
       "    </tr>\n",
       "    <tr>\n",
       "      <th>61780</th>\n",
       "      <td>61780</td>\n",
       "      <td>True</td>\n",
       "      <td>2</td>\n",
       "      <td>Williams, Chelsea</td>\n",
       "      <td>female</td>\n",
       "      <td>86.0</td>\n",
       "      <td>0</td>\n",
       "      <td>0</td>\n",
       "      <td>14693</td>\n",
       "      <td>37.59</td>\n",
       "      <td>NaN</td>\n",
       "      <td>C</td>\n",
       "      <td>False</td>\n",
       "      <td>(84.103, 87.0]</td>\n",
       "    </tr>\n",
       "    <tr>\n",
       "      <th>64456</th>\n",
       "      <td>64456</td>\n",
       "      <td>True</td>\n",
       "      <td>2</td>\n",
       "      <td>Fulton, Debra</td>\n",
       "      <td>female</td>\n",
       "      <td>85.0</td>\n",
       "      <td>0</td>\n",
       "      <td>0</td>\n",
       "      <td>43857</td>\n",
       "      <td>11.00</td>\n",
       "      <td>NaN</td>\n",
       "      <td>S</td>\n",
       "      <td>False</td>\n",
       "      <td>(84.103, 87.0]</td>\n",
       "    </tr>\n",
       "    <tr>\n",
       "      <th>66300</th>\n",
       "      <td>66300</td>\n",
       "      <td>True</td>\n",
       "      <td>2</td>\n",
       "      <td>Fulmer, Jean</td>\n",
       "      <td>female</td>\n",
       "      <td>86.0</td>\n",
       "      <td>0</td>\n",
       "      <td>0</td>\n",
       "      <td>424031</td>\n",
       "      <td>7.05</td>\n",
       "      <td>NaN</td>\n",
       "      <td>C</td>\n",
       "      <td>False</td>\n",
       "      <td>(84.103, 87.0]</td>\n",
       "    </tr>\n",
       "  </tbody>\n",
       "</table>\n",
       "</div>"
      ],
      "text/plain": [
       "       PassengerId  Survived  Pclass               Name     Sex   Age  SibSp  \\\n",
       "17667        17667      True       3   Merritt, Colleen  female  85.0      0   \n",
       "47612        47612      True       2    Fowler, Chasity  female  85.0      0   \n",
       "55085        55085      True       2     Steelman, Rose  female  87.0      0   \n",
       "60877        60877      True       2      Ashley, Billy    male  85.0      0   \n",
       "61780        61780      True       2  Williams, Chelsea  female  86.0      0   \n",
       "64456        64456      True       2      Fulton, Debra  female  85.0      0   \n",
       "66300        66300      True       2       Fulmer, Jean  female  86.0      0   \n",
       "\n",
       "       Parch    Ticket   Fare  Cabin Embarked  has_relatives      age_groups  \n",
       "17667      1  PP 10297  14.73  G6187        C           True  (84.103, 87.0]  \n",
       "47612      0       NaN  24.06    NaN        S          False  (84.103, 87.0]  \n",
       "55085      2     27657  35.80    NaN        C           True  (84.103, 87.0]  \n",
       "60877      0     C.A.   11.03    NaN        S          False  (84.103, 87.0]  \n",
       "61780      0     14693  37.59    NaN        C          False  (84.103, 87.0]  \n",
       "64456      0     43857  11.00    NaN        S          False  (84.103, 87.0]  \n",
       "66300      0    424031   7.05    NaN        C          False  (84.103, 87.0]  "
      ]
     },
     "execution_count": 55,
     "metadata": {},
     "output_type": "execute_result"
    }
   ],
   "source": [
    "# Выжившие в старшей возрастной группе\n",
    "df[df.Age > 84]"
   ]
  },
  {
   "cell_type": "code",
   "execution_count": 57,
   "id": "debbfc39",
   "metadata": {},
   "outputs": [
    {
     "data": {
      "text/plain": [
       "<AxesSubplot:xlabel='Age', ylabel='Fare'>"
      ]
     },
     "execution_count": 57,
     "metadata": {},
     "output_type": "execute_result"
    },
    {
     "data": {
      "image/png": "[encoded data removed]",
      "text/plain": [
       "<Figure size 432x288 with 1 Axes>"
      ]
     },
     "metadata": {
      "needs_background": "light"
     },
     "output_type": "display_data"
    }
   ],
   "source": [
    "sns.scatterplot(data=df, x=\"Age\", y=\"Fare\", hue='Survived', alpha=0.1)"
   ]
  },
  {
   "cell_type": "code",
   "execution_count": 58,
   "id": "b529b63f",
   "metadata": {},
   "outputs": [
    {
     "data": {
      "text/plain": [
       "<AxesSubplot:xlabel='Age', ylabel='Fare'>"
      ]
     },
     "execution_count": 58,
     "metadata": {},
     "output_type": "execute_result"
    },
    {
     "data": {
      "image/png": "[encoded data removed]",
      "text/plain": [
       "<Figure size 432x288 with 1 Axes>"
      ]
     },
     "metadata": {
      "needs_background": "light"
     },
     "output_type": "display_data"
    }
   ],
   "source": [
    "sns.scatterplot(x=df[\"Age\"], y=df[\"Fare\"][df['Fare']<100], hue=df['Survived'], alpha=0.1)"
   ]
  },
  {
   "cell_type": "code",
   "execution_count": 60,
   "id": "8a0589ec",
   "metadata": {},
   "outputs": [
    {
     "data": {
      "text/html": [
       "<div>\n",
       "<style scoped>\n",
       "    .dataframe tbody tr th:only-of-type {\n",
       "        vertical-align: middle;\n",
       "    }\n",
       "\n",
       "    .dataframe tbody tr th {\n",
       "        vertical-align: top;\n",
       "    }\n",
       "\n",
       "    .dataframe thead th {\n",
       "        text-align: right;\n",
       "    }\n",
       "</style>\n",
       "<table border=\"1\" class=\"dataframe\">\n",
       "  <thead>\n",
       "    <tr style=\"text-align: right;\">\n",
       "      <th></th>\n",
       "      <th>Survived</th>\n",
       "      <th>Pclass</th>\n",
       "      <th>Age</th>\n",
       "      <th>SibSp</th>\n",
       "      <th>Parch</th>\n",
       "      <th>Fare</th>\n",
       "      <th>has_relatives</th>\n",
       "      <th>Sex_female</th>\n",
       "      <th>Sex_male</th>\n",
       "      <th>Embarked_C</th>\n",
       "      <th>Embarked_Q</th>\n",
       "      <th>Embarked_S</th>\n",
       "    </tr>\n",
       "  </thead>\n",
       "  <tbody>\n",
       "    <tr>\n",
       "      <th>0</th>\n",
       "      <td>True</td>\n",
       "      <td>1</td>\n",
       "      <td>NaN</td>\n",
       "      <td>2</td>\n",
       "      <td>0</td>\n",
       "      <td>27.14</td>\n",
       "      <td>True</td>\n",
       "      <td>0</td>\n",
       "      <td>1</td>\n",
       "      <td>0</td>\n",
       "      <td>0</td>\n",
       "      <td>1</td>\n",
       "    </tr>\n",
       "    <tr>\n",
       "      <th>1</th>\n",
       "      <td>False</td>\n",
       "      <td>3</td>\n",
       "      <td>NaN</td>\n",
       "      <td>0</td>\n",
       "      <td>0</td>\n",
       "      <td>13.35</td>\n",
       "      <td>False</td>\n",
       "      <td>0</td>\n",
       "      <td>1</td>\n",
       "      <td>0</td>\n",
       "      <td>0</td>\n",
       "      <td>1</td>\n",
       "    </tr>\n",
       "    <tr>\n",
       "      <th>2</th>\n",
       "      <td>False</td>\n",
       "      <td>3</td>\n",
       "      <td>0.33</td>\n",
       "      <td>1</td>\n",
       "      <td>2</td>\n",
       "      <td>71.29</td>\n",
       "      <td>True</td>\n",
       "      <td>0</td>\n",
       "      <td>1</td>\n",
       "      <td>0</td>\n",
       "      <td>0</td>\n",
       "      <td>1</td>\n",
       "    </tr>\n",
       "    <tr>\n",
       "      <th>3</th>\n",
       "      <td>False</td>\n",
       "      <td>3</td>\n",
       "      <td>19.00</td>\n",
       "      <td>0</td>\n",
       "      <td>0</td>\n",
       "      <td>13.04</td>\n",
       "      <td>False</td>\n",
       "      <td>0</td>\n",
       "      <td>1</td>\n",
       "      <td>0</td>\n",
       "      <td>0</td>\n",
       "      <td>1</td>\n",
       "    </tr>\n",
       "    <tr>\n",
       "      <th>4</th>\n",
       "      <td>True</td>\n",
       "      <td>3</td>\n",
       "      <td>25.00</td>\n",
       "      <td>0</td>\n",
       "      <td>0</td>\n",
       "      <td>7.76</td>\n",
       "      <td>False</td>\n",
       "      <td>0</td>\n",
       "      <td>1</td>\n",
       "      <td>0</td>\n",
       "      <td>0</td>\n",
       "      <td>1</td>\n",
       "    </tr>\n",
       "    <tr>\n",
       "      <th>...</th>\n",
       "      <td>...</td>\n",
       "      <td>...</td>\n",
       "      <td>...</td>\n",
       "      <td>...</td>\n",
       "      <td>...</td>\n",
       "      <td>...</td>\n",
       "      <td>...</td>\n",
       "      <td>...</td>\n",
       "      <td>...</td>\n",
       "      <td>...</td>\n",
       "      <td>...</td>\n",
       "      <td>...</td>\n",
       "    </tr>\n",
       "    <tr>\n",
       "      <th>99995</th>\n",
       "      <td>True</td>\n",
       "      <td>2</td>\n",
       "      <td>62.00</td>\n",
       "      <td>0</td>\n",
       "      <td>0</td>\n",
       "      <td>14.86</td>\n",
       "      <td>False</td>\n",
       "      <td>1</td>\n",
       "      <td>0</td>\n",
       "      <td>1</td>\n",
       "      <td>0</td>\n",
       "      <td>0</td>\n",
       "    </tr>\n",
       "    <tr>\n",
       "      <th>99996</th>\n",
       "      <td>False</td>\n",
       "      <td>2</td>\n",
       "      <td>66.00</td>\n",
       "      <td>0</td>\n",
       "      <td>0</td>\n",
       "      <td>11.15</td>\n",
       "      <td>False</td>\n",
       "      <td>0</td>\n",
       "      <td>1</td>\n",
       "      <td>0</td>\n",
       "      <td>0</td>\n",
       "      <td>1</td>\n",
       "    </tr>\n",
       "    <tr>\n",
       "      <th>99997</th>\n",
       "      <td>False</td>\n",
       "      <td>3</td>\n",
       "      <td>37.00</td>\n",
       "      <td>0</td>\n",
       "      <td>0</td>\n",
       "      <td>9.95</td>\n",
       "      <td>False</td>\n",
       "      <td>0</td>\n",
       "      <td>1</td>\n",
       "      <td>0</td>\n",
       "      <td>0</td>\n",
       "      <td>1</td>\n",
       "    </tr>\n",
       "    <tr>\n",
       "      <th>99998</th>\n",
       "      <td>False</td>\n",
       "      <td>3</td>\n",
       "      <td>51.00</td>\n",
       "      <td>0</td>\n",
       "      <td>1</td>\n",
       "      <td>30.92</td>\n",
       "      <td>True</td>\n",
       "      <td>0</td>\n",
       "      <td>1</td>\n",
       "      <td>0</td>\n",
       "      <td>0</td>\n",
       "      <td>1</td>\n",
       "    </tr>\n",
       "    <tr>\n",
       "      <th>99999</th>\n",
       "      <td>False</td>\n",
       "      <td>3</td>\n",
       "      <td>55.00</td>\n",
       "      <td>0</td>\n",
       "      <td>0</td>\n",
       "      <td>13.96</td>\n",
       "      <td>False</td>\n",
       "      <td>0</td>\n",
       "      <td>1</td>\n",
       "      <td>0</td>\n",
       "      <td>0</td>\n",
       "      <td>1</td>\n",
       "    </tr>\n",
       "  </tbody>\n",
       "</table>\n",
       "<p>100000 rows × 12 columns</p>\n",
       "</div>"
      ],
      "text/plain": [
       "       Survived  Pclass    Age  SibSp  Parch   Fare  has_relatives  \\\n",
       "0          True       1    NaN      2      0  27.14           True   \n",
       "1         False       3    NaN      0      0  13.35          False   \n",
       "2         False       3   0.33      1      2  71.29           True   \n",
       "3         False       3  19.00      0      0  13.04          False   \n",
       "4          True       3  25.00      0      0   7.76          False   \n",
       "...         ...     ...    ...    ...    ...    ...            ...   \n",
       "99995      True       2  62.00      0      0  14.86          False   \n",
       "99996     False       2  66.00      0      0  11.15          False   \n",
       "99997     False       3  37.00      0      0   9.95          False   \n",
       "99998     False       3  51.00      0      1  30.92           True   \n",
       "99999     False       3  55.00      0      0  13.96          False   \n",
       "\n",
       "       Sex_female  Sex_male  Embarked_C  Embarked_Q  Embarked_S  \n",
       "0               0         1           0           0           1  \n",
       "1               0         1           0           0           1  \n",
       "2               0         1           0           0           1  \n",
       "3               0         1           0           0           1  \n",
       "4               0         1           0           0           1  \n",
       "...           ...       ...         ...         ...         ...  \n",
       "99995           1         0           1           0           0  \n",
       "99996           0         1           0           0           1  \n",
       "99997           0         1           0           0           1  \n",
       "99998           0         1           0           0           1  \n",
       "99999           0         1           0           0           1  \n",
       "\n",
       "[100000 rows x 12 columns]"
      ]
     },
     "execution_count": 60,
     "metadata": {},
     "output_type": "execute_result"
    }
   ],
   "source": [
    "# Преобразование датасета для построения корелляции\n",
    "dfdum = df.drop(columns=['Name', 'Ticket', 'Cabin', 'age_groups', 'PassengerId'])\n",
    "dfdum = pd.get_dummies(dfdum)\n",
    "dfdum"
   ]
  },
  {
   "cell_type": "code",
   "execution_count": 61,
   "id": "5402562a",
   "metadata": {},
   "outputs": [
    {
     "data": {
      "text/html": [
       "<div>\n",
       "<style scoped>\n",
       "    .dataframe tbody tr th:only-of-type {\n",
       "        vertical-align: middle;\n",
       "    }\n",
       "\n",
       "    .dataframe tbody tr th {\n",
       "        vertical-align: top;\n",
       "    }\n",
       "\n",
       "    .dataframe thead th {\n",
       "        text-align: right;\n",
       "    }\n",
       "</style>\n",
       "<table border=\"1\" class=\"dataframe\">\n",
       "  <thead>\n",
       "    <tr style=\"text-align: right;\">\n",
       "      <th></th>\n",
       "      <th>Survived</th>\n",
       "      <th>Pclass</th>\n",
       "      <th>Age</th>\n",
       "      <th>SibSp</th>\n",
       "      <th>Parch</th>\n",
       "      <th>Fare</th>\n",
       "      <th>has_relatives</th>\n",
       "      <th>Sex_female</th>\n",
       "      <th>Sex_male</th>\n",
       "      <th>Embarked_C</th>\n",
       "      <th>Embarked_Q</th>\n",
       "      <th>Embarked_S</th>\n",
       "    </tr>\n",
       "  </thead>\n",
       "  <tbody>\n",
       "    <tr>\n",
       "      <th>Survived</th>\n",
       "      <td>1.000000</td>\n",
       "      <td>-0.289723</td>\n",
       "      <td>0.103895</td>\n",
       "      <td>-0.007587</td>\n",
       "      <td>0.023352</td>\n",
       "      <td>0.187310</td>\n",
       "      <td>0.060086</td>\n",
       "      <td>0.507260</td>\n",
       "      <td>-0.507260</td>\n",
       "      <td>0.349209</td>\n",
       "      <td>0.081917</td>\n",
       "      <td>-0.365716</td>\n",
       "    </tr>\n",
       "    <tr>\n",
       "      <th>Pclass</th>\n",
       "      <td>-0.289723</td>\n",
       "      <td>1.000000</td>\n",
       "      <td>-0.259109</td>\n",
       "      <td>-0.051436</td>\n",
       "      <td>-0.041848</td>\n",
       "      <td>-0.416955</td>\n",
       "      <td>-0.137552</td>\n",
       "      <td>-0.198617</td>\n",
       "      <td>0.198617</td>\n",
       "      <td>-0.288068</td>\n",
       "      <td>-0.184565</td>\n",
       "      <td>0.360727</td>\n",
       "    </tr>\n",
       "    <tr>\n",
       "      <th>Age</th>\n",
       "      <td>0.103895</td>\n",
       "      <td>-0.259109</td>\n",
       "      <td>1.000000</td>\n",
       "      <td>-0.112459</td>\n",
       "      <td>-0.125535</td>\n",
       "      <td>0.109056</td>\n",
       "      <td>-0.121511</td>\n",
       "      <td>0.081684</td>\n",
       "      <td>-0.081684</td>\n",
       "      <td>0.101906</td>\n",
       "      <td>0.153130</td>\n",
       "      <td>-0.172093</td>\n",
       "    </tr>\n",
       "    <tr>\n",
       "      <th>SibSp</th>\n",
       "      <td>-0.007587</td>\n",
       "      <td>-0.051436</td>\n",
       "      <td>-0.112459</td>\n",
       "      <td>1.000000</td>\n",
       "      <td>0.213126</td>\n",
       "      <td>0.059403</td>\n",
       "      <td>0.587090</td>\n",
       "      <td>0.030627</td>\n",
       "      <td>-0.030627</td>\n",
       "      <td>-0.019017</td>\n",
       "      <td>-0.030716</td>\n",
       "      <td>0.033464</td>\n",
       "    </tr>\n",
       "    <tr>\n",
       "      <th>Parch</th>\n",
       "      <td>0.023352</td>\n",
       "      <td>-0.041848</td>\n",
       "      <td>-0.125535</td>\n",
       "      <td>0.213126</td>\n",
       "      <td>1.000000</td>\n",
       "      <td>0.061377</td>\n",
       "      <td>0.609236</td>\n",
       "      <td>0.087666</td>\n",
       "      <td>-0.087666</td>\n",
       "      <td>0.014203</td>\n",
       "      <td>-0.007879</td>\n",
       "      <td>-0.009520</td>\n",
       "    </tr>\n",
       "    <tr>\n",
       "      <th>Fare</th>\n",
       "      <td>0.187310</td>\n",
       "      <td>-0.416955</td>\n",
       "      <td>0.109056</td>\n",
       "      <td>0.059403</td>\n",
       "      <td>0.061377</td>\n",
       "      <td>1.000000</td>\n",
       "      <td>0.122761</td>\n",
       "      <td>0.143417</td>\n",
       "      <td>-0.143417</td>\n",
       "      <td>0.211657</td>\n",
       "      <td>0.101239</td>\n",
       "      <td>-0.247815</td>\n",
       "    </tr>\n",
       "    <tr>\n",
       "      <th>has_relatives</th>\n",
       "      <td>0.060086</td>\n",
       "      <td>-0.137552</td>\n",
       "      <td>-0.121511</td>\n",
       "      <td>0.587090</td>\n",
       "      <td>0.609236</td>\n",
       "      <td>0.122761</td>\n",
       "      <td>1.000000</td>\n",
       "      <td>0.109844</td>\n",
       "      <td>-0.109844</td>\n",
       "      <td>0.030586</td>\n",
       "      <td>-0.016279</td>\n",
       "      <td>-0.020658</td>\n",
       "    </tr>\n",
       "    <tr>\n",
       "      <th>Sex_female</th>\n",
       "      <td>0.507260</td>\n",
       "      <td>-0.198617</td>\n",
       "      <td>0.081684</td>\n",
       "      <td>0.030627</td>\n",
       "      <td>0.087666</td>\n",
       "      <td>0.143417</td>\n",
       "      <td>0.109844</td>\n",
       "      <td>1.000000</td>\n",
       "      <td>-1.000000</td>\n",
       "      <td>0.293367</td>\n",
       "      <td>0.130933</td>\n",
       "      <td>-0.339000</td>\n",
       "    </tr>\n",
       "    <tr>\n",
       "      <th>Sex_male</th>\n",
       "      <td>-0.507260</td>\n",
       "      <td>0.198617</td>\n",
       "      <td>-0.081684</td>\n",
       "      <td>-0.030627</td>\n",
       "      <td>-0.087666</td>\n",
       "      <td>-0.143417</td>\n",
       "      <td>-0.109844</td>\n",
       "      <td>-1.000000</td>\n",
       "      <td>1.000000</td>\n",
       "      <td>-0.293367</td>\n",
       "      <td>-0.130933</td>\n",
       "      <td>0.339000</td>\n",
       "    </tr>\n",
       "    <tr>\n",
       "      <th>Embarked_C</th>\n",
       "      <td>0.349209</td>\n",
       "      <td>-0.288068</td>\n",
       "      <td>0.101906</td>\n",
       "      <td>-0.019017</td>\n",
       "      <td>0.014203</td>\n",
       "      <td>0.211657</td>\n",
       "      <td>0.030586</td>\n",
       "      <td>0.293367</td>\n",
       "      <td>-0.293367</td>\n",
       "      <td>1.000000</td>\n",
       "      <td>-0.127877</td>\n",
       "      <td>-0.859231</td>\n",
       "    </tr>\n",
       "    <tr>\n",
       "      <th>Embarked_Q</th>\n",
       "      <td>0.081917</td>\n",
       "      <td>-0.184565</td>\n",
       "      <td>0.153130</td>\n",
       "      <td>-0.030716</td>\n",
       "      <td>-0.007879</td>\n",
       "      <td>0.101239</td>\n",
       "      <td>-0.016279</td>\n",
       "      <td>0.130933</td>\n",
       "      <td>-0.130933</td>\n",
       "      <td>-0.127877</td>\n",
       "      <td>1.000000</td>\n",
       "      <td>-0.385351</td>\n",
       "    </tr>\n",
       "    <tr>\n",
       "      <th>Embarked_S</th>\n",
       "      <td>-0.365716</td>\n",
       "      <td>0.360727</td>\n",
       "      <td>-0.172093</td>\n",
       "      <td>0.033464</td>\n",
       "      <td>-0.009520</td>\n",
       "      <td>-0.247815</td>\n",
       "      <td>-0.020658</td>\n",
       "      <td>-0.339000</td>\n",
       "      <td>0.339000</td>\n",
       "      <td>-0.859231</td>\n",
       "      <td>-0.385351</td>\n",
       "      <td>1.000000</td>\n",
       "    </tr>\n",
       "  </tbody>\n",
       "</table>\n",
       "</div>"
      ],
      "text/plain": [
       "               Survived    Pclass       Age     SibSp     Parch      Fare  \\\n",
       "Survived       1.000000 -0.289723  0.103895 -0.007587  0.023352  0.187310   \n",
       "Pclass        -0.289723  1.000000 -0.259109 -0.051436 -0.041848 -0.416955   \n",
       "Age            0.103895 -0.259109  1.000000 -0.112459 -0.125535  0.109056   \n",
       "SibSp         -0.007587 -0.051436 -0.112459  1.000000  0.213126  0.059403   \n",
       "Parch          0.023352 -0.041848 -0.125535  0.213126  1.000000  0.061377   \n",
       "Fare           0.187310 -0.416955  0.109056  0.059403  0.061377  1.000000   \n",
       "has_relatives  0.060086 -0.137552 -0.121511  0.587090  0.609236  0.122761   \n",
       "Sex_female     0.507260 -0.198617  0.081684  0.030627  0.087666  0.143417   \n",
       "Sex_male      -0.507260  0.198617 -0.081684 -0.030627 -0.087666 -0.143417   \n",
       "Embarked_C     0.349209 -0.288068  0.101906 -0.019017  0.014203  0.211657   \n",
       "Embarked_Q     0.081917 -0.184565  0.153130 -0.030716 -0.007879  0.101239   \n",
       "Embarked_S    -0.365716  0.360727 -0.172093  0.033464 -0.009520 -0.247815   \n",
       "\n",
       "               has_relatives  Sex_female  Sex_male  Embarked_C  Embarked_Q  \\\n",
       "Survived            0.060086    0.507260 -0.507260    0.349209    0.081917   \n",
       "Pclass             -0.137552   -0.198617  0.198617   -0.288068   -0.184565   \n",
       "Age                -0.121511    0.081684 -0.081684    0.101906    0.153130   \n",
       "SibSp               0.587090    0.030627 -0.030627   -0.019017   -0.030716   \n",
       "Parch               0.609236    0.087666 -0.087666    0.014203   -0.007879   \n",
       "Fare                0.122761    0.143417 -0.143417    0.211657    0.101239   \n",
       "has_relatives       1.000000    0.109844 -0.109844    0.030586   -0.016279   \n",
       "Sex_female          0.109844    1.000000 -1.000000    0.293367    0.130933   \n",
       "Sex_male           -0.109844   -1.000000  1.000000   -0.293367   -0.130933   \n",
       "Embarked_C          0.030586    0.293367 -0.293367    1.000000   -0.127877   \n",
       "Embarked_Q         -0.016279    0.130933 -0.130933   -0.127877    1.000000   \n",
       "Embarked_S         -0.020658   -0.339000  0.339000   -0.859231   -0.385351   \n",
       "\n",
       "               Embarked_S  \n",
       "Survived        -0.365716  \n",
       "Pclass           0.360727  \n",
       "Age             -0.172093  \n",
       "SibSp            0.033464  \n",
       "Parch           -0.009520  \n",
       "Fare            -0.247815  \n",
       "has_relatives   -0.020658  \n",
       "Sex_female      -0.339000  \n",
       "Sex_male         0.339000  \n",
       "Embarked_C      -0.859231  \n",
       "Embarked_Q      -0.385351  \n",
       "Embarked_S       1.000000  "
      ]
     },
     "execution_count": 61,
     "metadata": {},
     "output_type": "execute_result"
    }
   ],
   "source": [
    "dfdum.corr()"
   ]
  },
  {
   "cell_type": "code",
   "execution_count": 62,
   "id": "55cfc499",
   "metadata": {},
   "outputs": [
    {
     "data": {
      "text/plain": [
       "<AxesSubplot:>"
      ]
     },
     "execution_count": 62,
     "metadata": {},
     "output_type": "execute_result"
    },
    {
     "data": {
      "image/png": "[encoded data removed]",
      "text/plain": [
       "<Figure size 432x288 with 2 Axes>"
      ]
     },
     "metadata": {
      "needs_background": "light"
     },
     "output_type": "display_data"
    }
   ],
   "source": [
    "# Тепловая карта по коэффициенту корелляции\n",
    "sns.heatmap(dfdum.corr(), cmap=\"PiYG\")"
   ]
  },
  {
   "cell_type": "markdown",
   "id": "36508f45",
   "metadata": {},
   "source": [
    "Наибольшее положительное влияние оказывает пол женский и посадка в порту C. Наибольшее отрицательное влияние пол мужской и посадка в порту S"
   ]
  },
  {
   "cell_type": "code",
   "execution_count": null,
   "id": "4219e0e8",
   "metadata": {},
   "outputs": [],
   "source": []
  },
  {
   "cell_type": "code",
   "execution_count": 63,
   "id": "ed2495da",
   "metadata": {},
   "outputs": [
    {
     "data": {
      "text/html": [
       "<div>\n",
       "<style scoped>\n",
       "    .dataframe tbody tr th:only-of-type {\n",
       "        vertical-align: middle;\n",
       "    }\n",
       "\n",
       "    .dataframe tbody tr th {\n",
       "        vertical-align: top;\n",
       "    }\n",
       "\n",
       "    .dataframe thead th {\n",
       "        text-align: right;\n",
       "    }\n",
       "</style>\n",
       "<table border=\"1\" class=\"dataframe\">\n",
       "  <thead>\n",
       "    <tr style=\"text-align: right;\">\n",
       "      <th></th>\n",
       "      <th>Survived</th>\n",
       "      <th>Pclass</th>\n",
       "      <th>Age</th>\n",
       "      <th>SibSp</th>\n",
       "      <th>Parch</th>\n",
       "      <th>Fare</th>\n",
       "      <th>has_relatives</th>\n",
       "      <th>Embarked_C</th>\n",
       "      <th>Embarked_Q</th>\n",
       "      <th>Embarked_S</th>\n",
       "    </tr>\n",
       "  </thead>\n",
       "  <tbody>\n",
       "    <tr>\n",
       "      <th>7</th>\n",
       "      <td>True</td>\n",
       "      <td>3</td>\n",
       "      <td>6.0</td>\n",
       "      <td>1</td>\n",
       "      <td>2</td>\n",
       "      <td>31.50</td>\n",
       "      <td>True</td>\n",
       "      <td>0</td>\n",
       "      <td>0</td>\n",
       "      <td>1</td>\n",
       "    </tr>\n",
       "    <tr>\n",
       "      <th>14</th>\n",
       "      <td>True</td>\n",
       "      <td>1</td>\n",
       "      <td>44.0</td>\n",
       "      <td>0</td>\n",
       "      <td>1</td>\n",
       "      <td>28.40</td>\n",
       "      <td>True</td>\n",
       "      <td>1</td>\n",
       "      <td>0</td>\n",
       "      <td>0</td>\n",
       "    </tr>\n",
       "    <tr>\n",
       "      <th>15</th>\n",
       "      <td>True</td>\n",
       "      <td>3</td>\n",
       "      <td>57.0</td>\n",
       "      <td>0</td>\n",
       "      <td>0</td>\n",
       "      <td>9.31</td>\n",
       "      <td>False</td>\n",
       "      <td>0</td>\n",
       "      <td>0</td>\n",
       "      <td>1</td>\n",
       "    </tr>\n",
       "    <tr>\n",
       "      <th>19</th>\n",
       "      <td>True</td>\n",
       "      <td>1</td>\n",
       "      <td>61.0</td>\n",
       "      <td>0</td>\n",
       "      <td>4</td>\n",
       "      <td>205.01</td>\n",
       "      <td>True</td>\n",
       "      <td>0</td>\n",
       "      <td>1</td>\n",
       "      <td>0</td>\n",
       "    </tr>\n",
       "    <tr>\n",
       "      <th>20</th>\n",
       "      <td>False</td>\n",
       "      <td>3</td>\n",
       "      <td>17.0</td>\n",
       "      <td>0</td>\n",
       "      <td>0</td>\n",
       "      <td>8.28</td>\n",
       "      <td>False</td>\n",
       "      <td>0</td>\n",
       "      <td>0</td>\n",
       "      <td>1</td>\n",
       "    </tr>\n",
       "    <tr>\n",
       "      <th>...</th>\n",
       "      <td>...</td>\n",
       "      <td>...</td>\n",
       "      <td>...</td>\n",
       "      <td>...</td>\n",
       "      <td>...</td>\n",
       "      <td>...</td>\n",
       "      <td>...</td>\n",
       "      <td>...</td>\n",
       "      <td>...</td>\n",
       "      <td>...</td>\n",
       "    </tr>\n",
       "    <tr>\n",
       "      <th>99989</th>\n",
       "      <td>True</td>\n",
       "      <td>1</td>\n",
       "      <td>64.0</td>\n",
       "      <td>0</td>\n",
       "      <td>1</td>\n",
       "      <td>31.66</td>\n",
       "      <td>True</td>\n",
       "      <td>1</td>\n",
       "      <td>0</td>\n",
       "      <td>0</td>\n",
       "    </tr>\n",
       "    <tr>\n",
       "      <th>99990</th>\n",
       "      <td>True</td>\n",
       "      <td>3</td>\n",
       "      <td>15.0</td>\n",
       "      <td>0</td>\n",
       "      <td>0</td>\n",
       "      <td>10.92</td>\n",
       "      <td>False</td>\n",
       "      <td>0</td>\n",
       "      <td>0</td>\n",
       "      <td>1</td>\n",
       "    </tr>\n",
       "    <tr>\n",
       "      <th>99992</th>\n",
       "      <td>True</td>\n",
       "      <td>2</td>\n",
       "      <td>58.0</td>\n",
       "      <td>0</td>\n",
       "      <td>0</td>\n",
       "      <td>30.53</td>\n",
       "      <td>False</td>\n",
       "      <td>1</td>\n",
       "      <td>0</td>\n",
       "      <td>0</td>\n",
       "    </tr>\n",
       "    <tr>\n",
       "      <th>99993</th>\n",
       "      <td>True</td>\n",
       "      <td>3</td>\n",
       "      <td>17.0</td>\n",
       "      <td>0</td>\n",
       "      <td>0</td>\n",
       "      <td>4.06</td>\n",
       "      <td>False</td>\n",
       "      <td>0</td>\n",
       "      <td>0</td>\n",
       "      <td>1</td>\n",
       "    </tr>\n",
       "    <tr>\n",
       "      <th>99995</th>\n",
       "      <td>True</td>\n",
       "      <td>2</td>\n",
       "      <td>62.0</td>\n",
       "      <td>0</td>\n",
       "      <td>0</td>\n",
       "      <td>14.86</td>\n",
       "      <td>False</td>\n",
       "      <td>1</td>\n",
       "      <td>0</td>\n",
       "      <td>0</td>\n",
       "    </tr>\n",
       "  </tbody>\n",
       "</table>\n",
       "<p>43886 rows × 10 columns</p>\n",
       "</div>"
      ],
      "text/plain": [
       "       Survived  Pclass   Age  SibSp  Parch    Fare  has_relatives  \\\n",
       "7          True       3   6.0      1      2   31.50           True   \n",
       "14         True       1  44.0      0      1   28.40           True   \n",
       "15         True       3  57.0      0      0    9.31          False   \n",
       "19         True       1  61.0      0      4  205.01           True   \n",
       "20        False       3  17.0      0      0    8.28          False   \n",
       "...         ...     ...   ...    ...    ...     ...            ...   \n",
       "99989      True       1  64.0      0      1   31.66           True   \n",
       "99990      True       3  15.0      0      0   10.92          False   \n",
       "99992      True       2  58.0      0      0   30.53          False   \n",
       "99993      True       3  17.0      0      0    4.06          False   \n",
       "99995      True       2  62.0      0      0   14.86          False   \n",
       "\n",
       "       Embarked_C  Embarked_Q  Embarked_S  \n",
       "7               0           0           1  \n",
       "14              1           0           0  \n",
       "15              0           0           1  \n",
       "19              0           1           0  \n",
       "20              0           0           1  \n",
       "...           ...         ...         ...  \n",
       "99989           1           0           0  \n",
       "99990           0           0           1  \n",
       "99992           1           0           0  \n",
       "99993           0           0           1  \n",
       "99995           1           0           0  \n",
       "\n",
       "[43886 rows x 10 columns]"
      ]
     },
     "execution_count": 63,
     "metadata": {},
     "output_type": "execute_result"
    }
   ],
   "source": [
    "# Преобразование датасета для построения корелляции для женщин\n",
    "dfd = df[df['Sex'] == 'female']\n",
    "dfdum_fem = dfd.drop(columns=['Name', 'Ticket', 'Cabin', 'age_groups', 'PassengerId', 'Sex'])\n",
    "dfdum_fem = pd.get_dummies(dfdum_fem)\n",
    "dfdum_fem"
   ]
  },
  {
   "cell_type": "code",
   "execution_count": 64,
   "id": "24b37684",
   "metadata": {},
   "outputs": [
    {
     "data": {
      "text/plain": [
       "<AxesSubplot:>"
      ]
     },
     "execution_count": 64,
     "metadata": {},
     "output_type": "execute_result"
    },
    {
     "data": {
      "image/png": "[encoded data removed]",
      "text/plain": [
       "<Figure size 432x288 with 2 Axes>"
      ]
     },
     "metadata": {
      "needs_background": "light"
     },
     "output_type": "display_data"
    }
   ],
   "source": [
    "# Тепловая карта по коэффициентам корелляции для женщин\n",
    "sns.heatmap(dfdum_fem.corr(), cmap=\"PiYG\")"
   ]
  },
  {
   "cell_type": "markdown",
   "id": "09c32deb",
   "metadata": {},
   "source": [
    "Наибольшее положительное влияние для женщин посадка в порту C. Наибольшее отрицательное влияние посадка в порту S"
   ]
  },
  {
   "cell_type": "code",
   "execution_count": 65,
   "id": "f0e1d0d5",
   "metadata": {},
   "outputs": [
    {
     "data": {
      "text/html": [
       "<div>\n",
       "<style scoped>\n",
       "    .dataframe tbody tr th:only-of-type {\n",
       "        vertical-align: middle;\n",
       "    }\n",
       "\n",
       "    .dataframe tbody tr th {\n",
       "        vertical-align: top;\n",
       "    }\n",
       "\n",
       "    .dataframe thead th {\n",
       "        text-align: right;\n",
       "    }\n",
       "</style>\n",
       "<table border=\"1\" class=\"dataframe\">\n",
       "  <thead>\n",
       "    <tr style=\"text-align: right;\">\n",
       "      <th></th>\n",
       "      <th>Survived</th>\n",
       "      <th>Pclass</th>\n",
       "      <th>Age</th>\n",
       "      <th>SibSp</th>\n",
       "      <th>Parch</th>\n",
       "      <th>Fare</th>\n",
       "      <th>has_relatives</th>\n",
       "      <th>Embarked_C</th>\n",
       "      <th>Embarked_Q</th>\n",
       "      <th>Embarked_S</th>\n",
       "    </tr>\n",
       "  </thead>\n",
       "  <tbody>\n",
       "    <tr>\n",
       "      <th>0</th>\n",
       "      <td>True</td>\n",
       "      <td>1</td>\n",
       "      <td>NaN</td>\n",
       "      <td>2</td>\n",
       "      <td>0</td>\n",
       "      <td>27.14</td>\n",
       "      <td>True</td>\n",
       "      <td>0</td>\n",
       "      <td>0</td>\n",
       "      <td>1</td>\n",
       "    </tr>\n",
       "    <tr>\n",
       "      <th>1</th>\n",
       "      <td>False</td>\n",
       "      <td>3</td>\n",
       "      <td>NaN</td>\n",
       "      <td>0</td>\n",
       "      <td>0</td>\n",
       "      <td>13.35</td>\n",
       "      <td>False</td>\n",
       "      <td>0</td>\n",
       "      <td>0</td>\n",
       "      <td>1</td>\n",
       "    </tr>\n",
       "    <tr>\n",
       "      <th>2</th>\n",
       "      <td>False</td>\n",
       "      <td>3</td>\n",
       "      <td>0.33</td>\n",
       "      <td>1</td>\n",
       "      <td>2</td>\n",
       "      <td>71.29</td>\n",
       "      <td>True</td>\n",
       "      <td>0</td>\n",
       "      <td>0</td>\n",
       "      <td>1</td>\n",
       "    </tr>\n",
       "    <tr>\n",
       "      <th>3</th>\n",
       "      <td>False</td>\n",
       "      <td>3</td>\n",
       "      <td>19.00</td>\n",
       "      <td>0</td>\n",
       "      <td>0</td>\n",
       "      <td>13.04</td>\n",
       "      <td>False</td>\n",
       "      <td>0</td>\n",
       "      <td>0</td>\n",
       "      <td>1</td>\n",
       "    </tr>\n",
       "    <tr>\n",
       "      <th>4</th>\n",
       "      <td>True</td>\n",
       "      <td>3</td>\n",
       "      <td>25.00</td>\n",
       "      <td>0</td>\n",
       "      <td>0</td>\n",
       "      <td>7.76</td>\n",
       "      <td>False</td>\n",
       "      <td>0</td>\n",
       "      <td>0</td>\n",
       "      <td>1</td>\n",
       "    </tr>\n",
       "    <tr>\n",
       "      <th>...</th>\n",
       "      <td>...</td>\n",
       "      <td>...</td>\n",
       "      <td>...</td>\n",
       "      <td>...</td>\n",
       "      <td>...</td>\n",
       "      <td>...</td>\n",
       "      <td>...</td>\n",
       "      <td>...</td>\n",
       "      <td>...</td>\n",
       "      <td>...</td>\n",
       "    </tr>\n",
       "    <tr>\n",
       "      <th>99994</th>\n",
       "      <td>False</td>\n",
       "      <td>2</td>\n",
       "      <td>36.00</td>\n",
       "      <td>0</td>\n",
       "      <td>0</td>\n",
       "      <td>12.14</td>\n",
       "      <td>False</td>\n",
       "      <td>0</td>\n",
       "      <td>0</td>\n",
       "      <td>1</td>\n",
       "    </tr>\n",
       "    <tr>\n",
       "      <th>99996</th>\n",
       "      <td>False</td>\n",
       "      <td>2</td>\n",
       "      <td>66.00</td>\n",
       "      <td>0</td>\n",
       "      <td>0</td>\n",
       "      <td>11.15</td>\n",
       "      <td>False</td>\n",
       "      <td>0</td>\n",
       "      <td>0</td>\n",
       "      <td>1</td>\n",
       "    </tr>\n",
       "    <tr>\n",
       "      <th>99997</th>\n",
       "      <td>False</td>\n",
       "      <td>3</td>\n",
       "      <td>37.00</td>\n",
       "      <td>0</td>\n",
       "      <td>0</td>\n",
       "      <td>9.95</td>\n",
       "      <td>False</td>\n",
       "      <td>0</td>\n",
       "      <td>0</td>\n",
       "      <td>1</td>\n",
       "    </tr>\n",
       "    <tr>\n",
       "      <th>99998</th>\n",
       "      <td>False</td>\n",
       "      <td>3</td>\n",
       "      <td>51.00</td>\n",
       "      <td>0</td>\n",
       "      <td>1</td>\n",
       "      <td>30.92</td>\n",
       "      <td>True</td>\n",
       "      <td>0</td>\n",
       "      <td>0</td>\n",
       "      <td>1</td>\n",
       "    </tr>\n",
       "    <tr>\n",
       "      <th>99999</th>\n",
       "      <td>False</td>\n",
       "      <td>3</td>\n",
       "      <td>55.00</td>\n",
       "      <td>0</td>\n",
       "      <td>0</td>\n",
       "      <td>13.96</td>\n",
       "      <td>False</td>\n",
       "      <td>0</td>\n",
       "      <td>0</td>\n",
       "      <td>1</td>\n",
       "    </tr>\n",
       "  </tbody>\n",
       "</table>\n",
       "<p>56114 rows × 10 columns</p>\n",
       "</div>"
      ],
      "text/plain": [
       "       Survived  Pclass    Age  SibSp  Parch   Fare  has_relatives  \\\n",
       "0          True       1    NaN      2      0  27.14           True   \n",
       "1         False       3    NaN      0      0  13.35          False   \n",
       "2         False       3   0.33      1      2  71.29           True   \n",
       "3         False       3  19.00      0      0  13.04          False   \n",
       "4          True       3  25.00      0      0   7.76          False   \n",
       "...         ...     ...    ...    ...    ...    ...            ...   \n",
       "99994     False       2  36.00      0      0  12.14          False   \n",
       "99996     False       2  66.00      0      0  11.15          False   \n",
       "99997     False       3  37.00      0      0   9.95          False   \n",
       "99998     False       3  51.00      0      1  30.92           True   \n",
       "99999     False       3  55.00      0      0  13.96          False   \n",
       "\n",
       "       Embarked_C  Embarked_Q  Embarked_S  \n",
       "0               0           0           1  \n",
       "1               0           0           1  \n",
       "2               0           0           1  \n",
       "3               0           0           1  \n",
       "4               0           0           1  \n",
       "...           ...         ...         ...  \n",
       "99994           0           0           1  \n",
       "99996           0           0           1  \n",
       "99997           0           0           1  \n",
       "99998           0           0           1  \n",
       "99999           0           0           1  \n",
       "\n",
       "[56114 rows x 10 columns]"
      ]
     },
     "execution_count": 65,
     "metadata": {},
     "output_type": "execute_result"
    }
   ],
   "source": [
    "# Преобразование датасета для построения корелляции для мужчин\n",
    "dfd = df[df['Sex'] == 'male']\n",
    "dfdum_male = dfd.drop(columns=['Name', 'Ticket', 'Cabin', 'age_groups', 'PassengerId', 'Sex'])\n",
    "dfdum_male = pd.get_dummies(dfdum_male)\n",
    "dfdum_male"
   ]
  },
  {
   "cell_type": "code",
   "execution_count": 66,
   "id": "9c50ac6f",
   "metadata": {
    "scrolled": true
   },
   "outputs": [
    {
     "data": {
      "text/plain": [
       "<AxesSubplot:>"
      ]
     },
     "execution_count": 66,
     "metadata": {},
     "output_type": "execute_result"
    },
    {
     "data": {
      "image/png": "[encoded data removed]",
      "text/plain": [
       "<Figure size 432x288 with 2 Axes>"
      ]
     },
     "metadata": {
      "needs_background": "light"
     },
     "output_type": "display_data"
    }
   ],
   "source": [
    "# Тепловая карта по коэфициенту корреляции для мужчик\n",
    "sns.heatmap(dfdum_male.corr(), cmap=\"PiYG\")"
   ]
  },
  {
   "cell_type": "markdown",
   "id": "11f3e527",
   "metadata": {},
   "source": [
    "Наибольшее положительное влияние для мужчин оказывает посадка в порту C и стоимость билета. Наибольшее отрицательное влияние порту S и класс"
   ]
  },
  {
   "cell_type": "code",
   "execution_count": 68,
   "id": "90baafd8",
   "metadata": {},
   "outputs": [],
   "source": [
    "df_Emb_C =df[df.Embarked == 'C']"
   ]
  },
  {
   "cell_type": "code",
   "execution_count": 69,
   "id": "1cce11cd",
   "metadata": {},
   "outputs": [
    {
     "data": {
      "text/plain": [
       "<AxesSubplot:xlabel='Survived', ylabel='count'>"
      ]
     },
     "execution_count": 69,
     "metadata": {},
     "output_type": "execute_result"
    },
    {
     "data": {
      "image/png": "[encoded data removed]",
      "text/plain": [
       "<Figure size 432x288 with 1 Axes>"
      ]
     },
     "metadata": {
      "needs_background": "light"
     },
     "output_type": "display_data"
    }
   ],
   "source": [
    "# Выжившие пассажиры с портом посадки С\n",
    "# Процент выживших среди этих пассажиров больше, чем в среднем\n",
    "sns.countplot(x=\"Survived\", data=df_Emb_C)"
   ]
  },
  {
   "cell_type": "code",
   "execution_count": 70,
   "id": "c9ba3bf4",
   "metadata": {},
   "outputs": [
    {
     "data": {
      "text/plain": [
       "<AxesSubplot:xlabel='Pclass', ylabel='count'>"
      ]
     },
     "execution_count": 70,
     "metadata": {},
     "output_type": "execute_result"
    },
    {
     "data": {
      "image/png": "[encoded data removed]",
      "text/plain": [
       "<Figure size 432x288 with 1 Axes>"
      ]
     },
     "metadata": {
      "needs_background": "light"
     },
     "output_type": "display_data"
    }
   ],
   "source": [
    "# Среди севших в порту С больше доля пассажиров 1 класса в  отличии от средних показателей и мельше второго и третьего\n",
    "# Возможно этим и больший процент женщин объясняет их лучшую выживаемость\n",
    "sns.countplot(x=\"Pclass\", data=df_Emb_C)"
   ]
  },
  {
   "cell_type": "code",
   "execution_count": 71,
   "id": "fb0c805c",
   "metadata": {},
   "outputs": [
    {
     "data": {
      "text/plain": [
       "<AxesSubplot:xlabel='Sex', ylabel='count'>"
      ]
     },
     "execution_count": 71,
     "metadata": {},
     "output_type": "execute_result"
    },
    {
     "data": {
      "image/png": "[encoded data removed]",
      "text/plain": [
       "<Figure size 432x288 with 1 Axes>"
      ]
     },
     "metadata": {
      "needs_background": "light"
     },
     "output_type": "display_data"
    }
   ],
   "source": [
    "sns.countplot(x=\"Sex\", data=df_Emb_C)"
   ]
  },
  {
   "cell_type": "code",
   "execution_count": 73,
   "id": "06f085db",
   "metadata": {},
   "outputs": [
    {
     "data": {
      "text/plain": [
       "<AxesSubplot:xlabel='has_relatives', ylabel='count'>"
      ]
     },
     "execution_count": 73,
     "metadata": {},
     "output_type": "execute_result"
    },
    {
     "data": {
      "image/png": "[encoded data removed]",
      "text/plain": [
       "<Figure size 432x288 with 1 Axes>"
      ]
     },
     "metadata": {
      "needs_background": "light"
     },
     "output_type": "display_data"
    }
   ],
   "source": [
    "sns.countplot(x=\"has_relatives\", data=df_Emb_C)"
   ]
  },
  {
   "cell_type": "code",
   "execution_count": 74,
   "id": "2cbdd355",
   "metadata": {},
   "outputs": [
    {
     "data": {
      "text/plain": [
       "<AxesSubplot:xlabel='Pclass', ylabel='Survived'>"
      ]
     },
     "execution_count": 74,
     "metadata": {},
     "output_type": "execute_result"
    },
    {
     "data": {
      "image/png": "[encoded data removed]",
      "text/plain": [
       "<Figure size 432x288 with 1 Axes>"
      ]
     },
     "metadata": {
      "needs_background": "light"
     },
     "output_type": "display_data"
    }
   ],
   "source": [
    "sns.barplot(x=\"Pclass\", y='Survived',hue=\"Sex\", data=df_Emb_C)"
   ]
  },
  {
   "cell_type": "code",
   "execution_count": 75,
   "id": "7316aabb",
   "metadata": {},
   "outputs": [
    {
     "data": {
      "text/plain": [
       "<AxesSubplot:xlabel='Pclass', ylabel='count'>"
      ]
     },
     "execution_count": 75,
     "metadata": {},
     "output_type": "execute_result"
    },
    {
     "data": {
      "image/png": "[encoded data removed]",
      "text/plain": [
       "<Figure size 432x288 with 1 Axes>"
      ]
     },
     "metadata": {
      "needs_background": "light"
     },
     "output_type": "display_data"
    }
   ],
   "source": [
    "sns.countplot(x=\"Pclass\", hue=\"Sex\", data=df_Emb_C)"
   ]
  },
  {
   "cell_type": "code",
   "execution_count": 84,
   "id": "de75bb82",
   "metadata": {},
   "outputs": [
    {
     "data": {
      "text/plain": [
       "<AxesSubplot:xlabel='Pclass', ylabel='count'>"
      ]
     },
     "execution_count": 84,
     "metadata": {},
     "output_type": "execute_result"
    },
    {
     "data": {
      "image/png": "[encoded data removed]",
      "text/plain": [
       "<Figure size 432x288 with 1 Axes>"
      ]
     },
     "metadata": {
      "needs_background": "light"
     },
     "output_type": "display_data"
    }
   ],
   "source": [
    "sns.countplot(x=\"Pclass\", hue=\"Sex\", data=df_Emb_C)"
   ]
  },
  {
   "cell_type": "code",
   "execution_count": 76,
   "id": "dba6d930",
   "metadata": {},
   "outputs": [
    {
     "data": {
      "text/plain": [
       "<AxesSubplot:xlabel='Pclass', ylabel='count'>"
      ]
     },
     "execution_count": 76,
     "metadata": {},
     "output_type": "execute_result"
    },
    {
     "data": {
      "image/png": "[encoded data removed]",
      "text/plain": [
       "<Figure size 432x288 with 1 Axes>"
      ]
     },
     "metadata": {
      "needs_background": "light"
     },
     "output_type": "display_data"
    }
   ],
   "source": [
    "# Столбчатая диаграмма с разделением по классам и полу среди пассажиров севших в портах отличных от С\n",
    "# Картина значительно отличается от пассажиров порта С\n",
    "sns.countplot(x=\"Pclass\", hue=\"Sex\", data=df[df.Embarked != 'C'])"
   ]
  },
  {
   "cell_type": "code",
   "execution_count": 77,
   "id": "6c2cec58",
   "metadata": {},
   "outputs": [
    {
     "data": {
      "text/plain": [
       "<AxesSubplot:>"
      ]
     },
     "execution_count": 77,
     "metadata": {},
     "output_type": "execute_result"
    },
    {
     "data": {
      "image/png": "[encoded data removed]",
      "text/plain": [
       "<Figure size 432x288 with 2 Axes>"
      ]
     },
     "metadata": {
      "needs_background": "light"
     },
     "output_type": "display_data"
    }
   ],
   "source": [
    "# Тепловая карта корреляций для пассажиров порта С\n",
    "dfdum_Emb_C = df_Emb_C.drop(columns=['Name', 'Ticket', 'Cabin', 'age_groups', 'PassengerId', 'Embarked'])\n",
    "dfdum_Emb_C = pd.get_dummies(dfdum_Emb_C)\n",
    "sns.heatmap(dfdum_Emb_C.corr(), cmap=\"PiYG\")"
   ]
  },
  {
   "cell_type": "markdown",
   "id": "09e882cf",
   "metadata": {},
   "source": [
    "Наибольшую положительную корреляцию показывает пол женский, возраст и стоимость билета. Наибольшую отрицательную показывает пол женский."
   ]
  },
  {
   "cell_type": "code",
   "execution_count": 78,
   "id": "50c7babb",
   "metadata": {},
   "outputs": [
    {
     "data": {
      "text/html": [
       "<div>\n",
       "<style scoped>\n",
       "    .dataframe tbody tr th:only-of-type {\n",
       "        vertical-align: middle;\n",
       "    }\n",
       "\n",
       "    .dataframe tbody tr th {\n",
       "        vertical-align: top;\n",
       "    }\n",
       "\n",
       "    .dataframe thead th {\n",
       "        text-align: right;\n",
       "    }\n",
       "</style>\n",
       "<table border=\"1\" class=\"dataframe\">\n",
       "  <thead>\n",
       "    <tr style=\"text-align: right;\">\n",
       "      <th></th>\n",
       "      <th>Survived</th>\n",
       "      <th>Pclass</th>\n",
       "      <th>Age</th>\n",
       "      <th>SibSp</th>\n",
       "      <th>Parch</th>\n",
       "      <th>Fare</th>\n",
       "      <th>has_relatives</th>\n",
       "      <th>Sex_female</th>\n",
       "      <th>Sex_male</th>\n",
       "    </tr>\n",
       "  </thead>\n",
       "  <tbody>\n",
       "    <tr>\n",
       "      <th>Survived</th>\n",
       "      <td>1.000000</td>\n",
       "      <td>-0.125204</td>\n",
       "      <td>0.094116</td>\n",
       "      <td>-0.122978</td>\n",
       "      <td>-0.098375</td>\n",
       "      <td>0.076155</td>\n",
       "      <td>-0.116316</td>\n",
       "      <td>0.346602</td>\n",
       "      <td>-0.346602</td>\n",
       "    </tr>\n",
       "    <tr>\n",
       "      <th>Pclass</th>\n",
       "      <td>-0.125204</td>\n",
       "      <td>1.000000</td>\n",
       "      <td>-0.238446</td>\n",
       "      <td>0.007607</td>\n",
       "      <td>0.080830</td>\n",
       "      <td>-0.378826</td>\n",
       "      <td>0.010990</td>\n",
       "      <td>0.017482</td>\n",
       "      <td>-0.017482</td>\n",
       "    </tr>\n",
       "    <tr>\n",
       "      <th>Age</th>\n",
       "      <td>0.094116</td>\n",
       "      <td>-0.238446</td>\n",
       "      <td>1.000000</td>\n",
       "      <td>-0.137989</td>\n",
       "      <td>-0.148716</td>\n",
       "      <td>0.079111</td>\n",
       "      <td>-0.158866</td>\n",
       "      <td>0.076106</td>\n",
       "      <td>-0.076106</td>\n",
       "    </tr>\n",
       "    <tr>\n",
       "      <th>SibSp</th>\n",
       "      <td>-0.122978</td>\n",
       "      <td>0.007607</td>\n",
       "      <td>-0.137989</td>\n",
       "      <td>1.000000</td>\n",
       "      <td>0.201343</td>\n",
       "      <td>0.007324</td>\n",
       "      <td>0.582885</td>\n",
       "      <td>-0.058795</td>\n",
       "      <td>0.058795</td>\n",
       "    </tr>\n",
       "    <tr>\n",
       "      <th>Parch</th>\n",
       "      <td>-0.098375</td>\n",
       "      <td>0.080830</td>\n",
       "      <td>-0.148716</td>\n",
       "      <td>0.201343</td>\n",
       "      <td>1.000000</td>\n",
       "      <td>-0.026368</td>\n",
       "      <td>0.594841</td>\n",
       "      <td>-0.007453</td>\n",
       "      <td>0.007453</td>\n",
       "    </tr>\n",
       "    <tr>\n",
       "      <th>Fare</th>\n",
       "      <td>0.076155</td>\n",
       "      <td>-0.378826</td>\n",
       "      <td>0.079111</td>\n",
       "      <td>0.007324</td>\n",
       "      <td>-0.026368</td>\n",
       "      <td>1.000000</td>\n",
       "      <td>0.010854</td>\n",
       "      <td>0.010806</td>\n",
       "      <td>-0.010806</td>\n",
       "    </tr>\n",
       "    <tr>\n",
       "      <th>has_relatives</th>\n",
       "      <td>-0.116316</td>\n",
       "      <td>0.010990</td>\n",
       "      <td>-0.158866</td>\n",
       "      <td>0.582885</td>\n",
       "      <td>0.594841</td>\n",
       "      <td>0.010854</td>\n",
       "      <td>1.000000</td>\n",
       "      <td>-0.038261</td>\n",
       "      <td>0.038261</td>\n",
       "    </tr>\n",
       "    <tr>\n",
       "      <th>Sex_female</th>\n",
       "      <td>0.346602</td>\n",
       "      <td>0.017482</td>\n",
       "      <td>0.076106</td>\n",
       "      <td>-0.058795</td>\n",
       "      <td>-0.007453</td>\n",
       "      <td>0.010806</td>\n",
       "      <td>-0.038261</td>\n",
       "      <td>1.000000</td>\n",
       "      <td>-1.000000</td>\n",
       "    </tr>\n",
       "    <tr>\n",
       "      <th>Sex_male</th>\n",
       "      <td>-0.346602</td>\n",
       "      <td>-0.017482</td>\n",
       "      <td>-0.076106</td>\n",
       "      <td>0.058795</td>\n",
       "      <td>0.007453</td>\n",
       "      <td>-0.010806</td>\n",
       "      <td>0.038261</td>\n",
       "      <td>-1.000000</td>\n",
       "      <td>1.000000</td>\n",
       "    </tr>\n",
       "  </tbody>\n",
       "</table>\n",
       "</div>"
      ],
      "text/plain": [
       "               Survived    Pclass       Age     SibSp     Parch      Fare  \\\n",
       "Survived       1.000000 -0.125204  0.094116 -0.122978 -0.098375  0.076155   \n",
       "Pclass        -0.125204  1.000000 -0.238446  0.007607  0.080830 -0.378826   \n",
       "Age            0.094116 -0.238446  1.000000 -0.137989 -0.148716  0.079111   \n",
       "SibSp         -0.122978  0.007607 -0.137989  1.000000  0.201343  0.007324   \n",
       "Parch         -0.098375  0.080830 -0.148716  0.201343  1.000000 -0.026368   \n",
       "Fare           0.076155 -0.378826  0.079111  0.007324 -0.026368  1.000000   \n",
       "has_relatives -0.116316  0.010990 -0.158866  0.582885  0.594841  0.010854   \n",
       "Sex_female     0.346602  0.017482  0.076106 -0.058795 -0.007453  0.010806   \n",
       "Sex_male      -0.346602 -0.017482 -0.076106  0.058795  0.007453 -0.010806   \n",
       "\n",
       "               has_relatives  Sex_female  Sex_male  \n",
       "Survived           -0.116316    0.346602 -0.346602  \n",
       "Pclass              0.010990    0.017482 -0.017482  \n",
       "Age                -0.158866    0.076106 -0.076106  \n",
       "SibSp               0.582885   -0.058795  0.058795  \n",
       "Parch               0.594841   -0.007453  0.007453  \n",
       "Fare                0.010854    0.010806 -0.010806  \n",
       "has_relatives       1.000000   -0.038261  0.038261  \n",
       "Sex_female         -0.038261    1.000000 -1.000000  \n",
       "Sex_male            0.038261   -1.000000  1.000000  "
      ]
     },
     "execution_count": 78,
     "metadata": {},
     "output_type": "execute_result"
    }
   ],
   "source": [
    "dfdum_Emb_C.corr()"
   ]
  },
  {
   "cell_type": "code",
   "execution_count": 88,
   "id": "7f510003",
   "metadata": {},
   "outputs": [
    {
     "data": {
      "text/plain": [
       "<AxesSubplot:>"
      ]
     },
     "execution_count": 88,
     "metadata": {},
     "output_type": "execute_result"
    },
    {
     "data": {
      "image/png": "[encoded data removed]",
      "text/plain": [
       "<Figure size 432x288 with 2 Axes>"
      ]
     },
     "metadata": {
      "needs_background": "light"
     },
     "output_type": "display_data"
    }
   ],
   "source": [
    "# Подготовка данных для расчета корреляции по пассажирам порта С с выборкой по женщинам\n",
    "dfdum_Emb_C = df_Emb_C[df_Emb_C.Sex == 'female']\n",
    "dfdum_Emb_C = dfdum_Emb_C.drop(columns=['Name', 'Ticket', 'Cabin', 'age_groups', 'PassengerId', 'Embarked', 'Sex'])\n",
    "dfdum_Emb_C = pd.get_dummies(dfdum_Emb_C)\n",
    "\n",
    "sns.heatmap(dfdum_Emb_C.corr(), cmap=\"PiYG\")"
   ]
  },
  {
   "cell_type": "code",
   "execution_count": 89,
   "id": "193c6daf",
   "metadata": {},
   "outputs": [
    {
     "data": {
      "text/html": [
       "<div>\n",
       "<style scoped>\n",
       "    .dataframe tbody tr th:only-of-type {\n",
       "        vertical-align: middle;\n",
       "    }\n",
       "\n",
       "    .dataframe tbody tr th {\n",
       "        vertical-align: top;\n",
       "    }\n",
       "\n",
       "    .dataframe thead th {\n",
       "        text-align: right;\n",
       "    }\n",
       "</style>\n",
       "<table border=\"1\" class=\"dataframe\">\n",
       "  <thead>\n",
       "    <tr style=\"text-align: right;\">\n",
       "      <th></th>\n",
       "      <th>PassengerId</th>\n",
       "      <th>Survived</th>\n",
       "      <th>Pclass</th>\n",
       "      <th>Age</th>\n",
       "      <th>SibSp</th>\n",
       "      <th>Parch</th>\n",
       "      <th>Fare</th>\n",
       "      <th>has_relatives</th>\n",
       "    </tr>\n",
       "  </thead>\n",
       "  <tbody>\n",
       "    <tr>\n",
       "      <th>PassengerId</th>\n",
       "      <td>1.000000</td>\n",
       "      <td>-0.001642</td>\n",
       "      <td>0.004916</td>\n",
       "      <td>-0.011596</td>\n",
       "      <td>-0.000868</td>\n",
       "      <td>-0.001964</td>\n",
       "      <td>-0.013025</td>\n",
       "      <td>0.007081</td>\n",
       "    </tr>\n",
       "    <tr>\n",
       "      <th>Survived</th>\n",
       "      <td>-0.001642</td>\n",
       "      <td>1.000000</td>\n",
       "      <td>-0.087137</td>\n",
       "      <td>0.079002</td>\n",
       "      <td>-0.117886</td>\n",
       "      <td>-0.120483</td>\n",
       "      <td>0.041651</td>\n",
       "      <td>-0.122348</td>\n",
       "    </tr>\n",
       "    <tr>\n",
       "      <th>Pclass</th>\n",
       "      <td>0.004916</td>\n",
       "      <td>-0.087137</td>\n",
       "      <td>1.000000</td>\n",
       "      <td>-0.235325</td>\n",
       "      <td>0.031851</td>\n",
       "      <td>0.125600</td>\n",
       "      <td>-0.398526</td>\n",
       "      <td>0.061361</td>\n",
       "    </tr>\n",
       "    <tr>\n",
       "      <th>Age</th>\n",
       "      <td>-0.011596</td>\n",
       "      <td>0.079002</td>\n",
       "      <td>-0.235325</td>\n",
       "      <td>1.000000</td>\n",
       "      <td>-0.143477</td>\n",
       "      <td>-0.161008</td>\n",
       "      <td>0.077740</td>\n",
       "      <td>-0.170912</td>\n",
       "    </tr>\n",
       "    <tr>\n",
       "      <th>SibSp</th>\n",
       "      <td>-0.000868</td>\n",
       "      <td>-0.117886</td>\n",
       "      <td>0.031851</td>\n",
       "      <td>-0.143477</td>\n",
       "      <td>1.000000</td>\n",
       "      <td>0.196393</td>\n",
       "      <td>-0.000458</td>\n",
       "      <td>0.558779</td>\n",
       "    </tr>\n",
       "    <tr>\n",
       "      <th>Parch</th>\n",
       "      <td>-0.001964</td>\n",
       "      <td>-0.120483</td>\n",
       "      <td>0.125600</td>\n",
       "      <td>-0.161008</td>\n",
       "      <td>0.196393</td>\n",
       "      <td>1.000000</td>\n",
       "      <td>-0.046940</td>\n",
       "      <td>0.601352</td>\n",
       "    </tr>\n",
       "    <tr>\n",
       "      <th>Fare</th>\n",
       "      <td>-0.013025</td>\n",
       "      <td>0.041651</td>\n",
       "      <td>-0.398526</td>\n",
       "      <td>0.077740</td>\n",
       "      <td>-0.000458</td>\n",
       "      <td>-0.046940</td>\n",
       "      <td>1.000000</td>\n",
       "      <td>-0.009402</td>\n",
       "    </tr>\n",
       "    <tr>\n",
       "      <th>has_relatives</th>\n",
       "      <td>0.007081</td>\n",
       "      <td>-0.122348</td>\n",
       "      <td>0.061361</td>\n",
       "      <td>-0.170912</td>\n",
       "      <td>0.558779</td>\n",
       "      <td>0.601352</td>\n",
       "      <td>-0.009402</td>\n",
       "      <td>1.000000</td>\n",
       "    </tr>\n",
       "  </tbody>\n",
       "</table>\n",
       "</div>"
      ],
      "text/plain": [
       "               PassengerId  Survived    Pclass       Age     SibSp     Parch  \\\n",
       "PassengerId       1.000000 -0.001642  0.004916 -0.011596 -0.000868 -0.001964   \n",
       "Survived         -0.001642  1.000000 -0.087137  0.079002 -0.117886 -0.120483   \n",
       "Pclass            0.004916 -0.087137  1.000000 -0.235325  0.031851  0.125600   \n",
       "Age              -0.011596  0.079002 -0.235325  1.000000 -0.143477 -0.161008   \n",
       "SibSp            -0.000868 -0.117886  0.031851 -0.143477  1.000000  0.196393   \n",
       "Parch            -0.001964 -0.120483  0.125600 -0.161008  0.196393  1.000000   \n",
       "Fare             -0.013025  0.041651 -0.398526  0.077740 -0.000458 -0.046940   \n",
       "has_relatives     0.007081 -0.122348  0.061361 -0.170912  0.558779  0.601352   \n",
       "\n",
       "                   Fare  has_relatives  \n",
       "PassengerId   -0.013025       0.007081  \n",
       "Survived       0.041651      -0.122348  \n",
       "Pclass        -0.398526       0.061361  \n",
       "Age            0.077740      -0.170912  \n",
       "SibSp         -0.000458       0.558779  \n",
       "Parch         -0.046940       0.601352  \n",
       "Fare           1.000000      -0.009402  \n",
       "has_relatives -0.009402       1.000000  "
      ]
     },
     "execution_count": 89,
     "metadata": {},
     "output_type": "execute_result"
    }
   ],
   "source": [
    "df_Emb_C[df_Emb_C.Sex == 'female'].corr()"
   ]
  },
  {
   "cell_type": "markdown",
   "id": "80fc86b7",
   "metadata": {},
   "source": [
    "# Summary"
   ]
  },
  {
   "cell_type": "markdown",
   "id": "676bfd42",
   "metadata": {},
   "source": [
    "Исходя из данных датасета, женщин выжило больше не смотря на классы. \n",
    "Также есть корреляция с выживанием между классом (чем выше класс тем лучше выживание), портом посадки (лучшие показатели выживания у пассажиров порта С),"
   ]
  }
 ],
 "metadata": {
  "kernelspec": {
   "display_name": "Python 3 (ipykernel)",
   "language": "python",
   "name": "python3"
  },
  "language_info": {
   "codemirror_mode": {
    "name": "ipython",
    "version": 3
   },
   "file_extension": ".py",
   "mimetype": "text/x-python",
   "name": "python",
   "nbconvert_exporter": "python",
   "pygments_lexer": "ipython3",
   "version": "3.9.7"
  },
  "toc": {
   "base_numbering": 1,
   "nav_menu": {},
   "number_sections": true,
   "sideBar": true,
   "skip_h1_title": false,
   "title_cell": "Table of Contents",
   "title_sidebar": "Contents",
   "toc_cell": false,
   "toc_position": {},
   "toc_section_display": true,
   "toc_window_display": false
  }
 },
 "nbformat": 4,
 "nbformat_minor": 5
}
